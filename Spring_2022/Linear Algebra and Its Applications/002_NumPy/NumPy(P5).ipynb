{
  "nbformat": 4,
  "nbformat_minor": 0,
  "metadata": {
    "colab": {
      "name": "NumPy(P5).ipynb",
      "provenance": [],
      "collapsed_sections": []
    },
    "kernelspec": {
      "name": "python3",
      "display_name": "Python 3"
    },
    "language_info": {
      "name": "python"
    }
  },
  "cells": [
    {
      "cell_type": "markdown",
      "source": [
        "## How to create an array from existing data"
      ],
      "metadata": {
        "id": "Id0Qgl91mtQb"
      }
    },
    {
      "cell_type": "markdown",
      "source": [
        "## Basic array operations"
      ],
      "metadata": {
        "id": "brpB87zzm3YA"
      }
    },
    {
      "cell_type": "markdown",
      "source": [
        "## Broadcasting"
      ],
      "metadata": {
        "id": "rBbd6Lmom4Jq"
      }
    },
    {
      "cell_type": "markdown",
      "source": [
        "## More useful array operations"
      ],
      "metadata": {
        "id": "yw8v4zaLm_Rc"
      }
    },
    {
      "cell_type": "markdown",
      "source": [
        "## Acknowledgement:\n",
        "Thanks for your stata-of-the-art document [Numpy](https://numpy.org/doc/stable/user/absolute_beginners.html)"
      ],
      "metadata": {
        "id": "U55kuysHmTiV"
      }
    },
    {
      "cell_type": "code",
      "source": [
        ""
      ],
      "metadata": {
        "id": "bbTIofcdmfS7"
      },
      "execution_count": null,
      "outputs": []
    }
  ]
}