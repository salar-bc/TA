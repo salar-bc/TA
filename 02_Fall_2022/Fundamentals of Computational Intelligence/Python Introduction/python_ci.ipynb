{
  "nbformat": 4,
  "nbformat_minor": 0,
  "metadata": {
    "colab": {
      "provenance": [],
      "authorship_tag": "ABX9TyOclUc3MPr6CCmJ2ObViVKv",
      "include_colab_link": true
    },
    "kernelspec": {
      "name": "python3",
      "display_name": "Python 3"
    },
    "language_info": {
      "name": "python"
    }
  },
  "cells": [
    {
      "cell_type": "markdown",
      "metadata": {
        "id": "view-in-github",
        "colab_type": "text"
      },
      "source": [
        "<a href=\"https://colab.research.google.com/github/salarMokhtariL/TA/blob/main/02_Fall_2022/Fundamentals%20of%20Computational%20Intelligence/Python%20Introduction/python_ci.ipynb\" target=\"_parent\"><img src=\"https://colab.research.google.com/assets/colab-badge.svg\" alt=\"Open In Colab\"/></a>"
      ]
    },
    {
      "cell_type": "markdown",
      "source": [
        "# Python Programming Language\n",
        "\n",
        "\n",
        "\n",
        "### Salar Mokhtari Laleh  "
      ],
      "metadata": {
        "id": "w1vSmyIDgctV"
      }
    },
    {
      "cell_type": "markdown",
      "source": [
        "## Class Information:\n",
        " \n",
        " Class at [Quera](https://quera.org/course/add_to_course/course/11843/) to send homeworks with **TBZ** password \n",
        "\n",
        "Homework and projects will be uploaded to [Github](https://github.com/salarMokhtariL/TA) repositories\n",
        "\n",
        "Email sending assignments if the link to the **Quora website does not work**\n",
        "\n",
        "\tsalarmokhtrai0@gmail.com"
      ],
      "metadata": {
        "id": "LbDVxMVshXLw"
      }
    },
    {
      "cell_type": "markdown",
      "source": [
        "# Python \n",
        "\n",
        "Python is an easy to learn, powerful programming language. It has efficient high-level data structures and a simple but effective approach to object-oriented programming. Python’s elegant syntax and dynamic typing, together with its interpreted nature, make it an ideal language for scripting and rapid application development in many areas on most platforms.\n",
        "\n",
        "The Python interpreter and the extensive standard library are freely available in source or binary form for all major platforms from the Python web site, https://www.python.org/, and may be freely distributed. The same site also contains distributions of and pointers to many free third party Python modules, programs and tools, and additional documentation.\n",
        "\n",
        "The Python interpreter is easily extended with new functions and data types implemented in C or C++ (or other languages callable from C). Python is also suitable as an extension language for customizable applications.\n",
        "\n",
        "you write Python (.py) files in a text editor and then put those files into the python interpreter to be executed. Depending on the Editor you are using, this is either done automatically, or you need to do it manually.\n",
        "\n",
        "\n",
        "## Interpreted vs. Compiled\n",
        "\n",
        "\n",
        "Programming languages generally fall into one of two categories: Compiled or Interpreted. With a compiled language, code you enter is reduced to a set of machine-specific instructions before being saved as an executable file.\n",
        "Both approaches have their advantages and disadvantages.\n",
        "\n",
        "With interpreted languages, the code is saved in the same format that you entered. Compiled programs generally run faster than interpreted ones because interpreted programs must be reduced to machine instructions at run-time. It is usually easier to develop applications in an interpreted environment because you don’t have to recompile your application each time you want to test a small section.\n",
        "\n",
        "Compiled languages are all translated by running the source code through a compiler. This results in very efficient code that can be executed any number of times. The overhead for the translation is incurred just once, when the source is compiled; thereafter, it need only be loaded and executed.\n",
        "\n",
        "Interpreted languages, in contrast, must be parsed, interpreted, and executed each time the program is run.\n",
        "\n",
        "## Python Packages for Science and Numerical Computations\n",
        "Some important Python Packages for Science and Numerical Computations are: \n",
        "\n",
        "  *   NumPy\n",
        "\n",
        "  *   SciPy\n",
        "  *   Matplotlib\n",
        "  *   Pandas\n",
        "\n",
        "These packages need to be downloaded and installed separately, or you choose to use, e.g., a distribution package like Anaconda, where you typically get the packages you need for scientific computing\n"
      ],
      "metadata": {
        "id": "xjbB96Nwh8Zr"
      }
    },
    {
      "cell_type": "markdown",
      "source": [
        "# Python Comments \n",
        "\n",
        "\n",
        "  *   Comments can be used to explain Python code.\n",
        "  *   Comments can be used to make the code more readable.\n",
        "  *   Comments can be used to prevent execution when testing code.\n",
        "\n",
        "## Creating a Comment\n",
        "\n",
        "Comments starts with a `#`, and Python will ignore them\n",
        "    \n",
        "    # This's a Comment\n",
        "    print(\"hello world\")\n",
        "\n",
        "Comments can be placed at the end of a line, and Python will ignore the rest of the line:\n",
        "\n",
        "    print(\"Hello, World!\") #This is a comment\n",
        "\n",
        "A comment does not have to be text that explains the code, it can also be used to prevent Python from executing code:\n",
        "\n",
        "    #print(\"Hello, World!\")\n",
        "    print(\"Cheers, Mate!\")\n",
        "\n",
        "## Multi Line Comments\n",
        "Python does not really have a syntax for multi line comments.\n",
        "\n",
        "To add a multiline comment you could insert a `#` for each line:\n",
        "\n",
        "    #This is a comment\n",
        "    #written in\n",
        "    #more than just one line\n",
        "    print(\"Hello, World!\")\n",
        "\n",
        "Or, not quite as intended, you can use a multiline string.\n",
        "\n",
        "Since Python will ignore string literals that are not assigned to a variable, you can add a multiline string (triple quotes) in your code, and place your comment inside it:\n",
        "\n",
        "    \"\"\"\n",
        "    This is a comment\n",
        "    written in\n",
        "    more than just one line\n",
        "    \"\"\"\n",
        "    print(\"Hello, World!\")\n",
        "\n",
        "As long as the string is not assigned to a variable, Python will read the code, but then ignore it, and you have made a multiline comment."
      ],
      "metadata": {
        "id": "D2CuzNXliy4b"
      }
    },
    {
      "cell_type": "markdown",
      "source": [
        "# Python Variables\n",
        "\n",
        "Variables are containers for storing data values.\n",
        "\n",
        "### Creating Variables\n",
        "Python has no command for declaring a variable.\n",
        "\n",
        "A variable is created the moment you first assign a value to it."
      ],
      "metadata": {
        "id": "aseRXlFakL6R"
      }
    },
    {
      "cell_type": "code",
      "source": [
        "x = 5\n",
        "y = \"John\"\n",
        "print(x)\n",
        "print(y)"
      ],
      "metadata": {
        "colab": {
          "base_uri": "https://localhost:8080/"
        },
        "id": "RLeZqRyUiyrK",
        "outputId": "aa07e835-675d-4a76-8319-40a7c632172d"
      },
      "execution_count": null,
      "outputs": [
        {
          "output_type": "stream",
          "name": "stdout",
          "text": [
            "5\n",
            "John\n"
          ]
        }
      ]
    },
    {
      "cell_type": "code",
      "source": [
        "# Variables do not need to be declared with any particular type, and can even change type after they have been set.\n",
        "\n",
        "x = 4       # x is of type int\n",
        "x = \"Sally\" # x is now of type str\n",
        "print(x)"
      ],
      "metadata": {
        "id": "YysAHn38ktWP",
        "colab": {
          "base_uri": "https://localhost:8080/"
        },
        "outputId": "c586dd1c-4a41-4c22-d29b-ec4f49c008da"
      },
      "execution_count": null,
      "outputs": [
        {
          "output_type": "stream",
          "name": "stdout",
          "text": [
            "Sally\n"
          ]
        }
      ]
    },
    {
      "cell_type": "markdown",
      "source": [
        "### Casting\n",
        "\n",
        "If you want to specify the data type of a variable, this can be done with casting.\n"
      ],
      "metadata": {
        "id": "J7Bj_3kXZobh"
      }
    },
    {
      "cell_type": "code",
      "source": [
        "x = str(3)    # x will be '3'\n",
        "y = int(3)    # y will be 3\n",
        "z = float(3)  # z will be 3.0"
      ],
      "metadata": {
        "id": "xV_QQcQoZjIs"
      },
      "execution_count": null,
      "outputs": []
    },
    {
      "cell_type": "code",
      "source": [
        "print(type(x))"
      ],
      "metadata": {
        "colab": {
          "base_uri": "https://localhost:8080/"
        },
        "id": "WpJwm6miZubA",
        "outputId": "811be032-5405-4e50-fb73-70c4497086dd"
      },
      "execution_count": null,
      "outputs": [
        {
          "output_type": "stream",
          "name": "stdout",
          "text": [
            "<class 'str'>\n"
          ]
        }
      ]
    },
    {
      "cell_type": "code",
      "source": [
        "print(type(y))\n",
        "print(type(z))"
      ],
      "metadata": {
        "colab": {
          "base_uri": "https://localhost:8080/"
        },
        "id": "ikYgQBw4Z23i",
        "outputId": "b1c6d221-08dc-4e76-b378-2f9bab7d7976"
      },
      "execution_count": null,
      "outputs": [
        {
          "output_type": "stream",
          "name": "stdout",
          "text": [
            "<class 'int'>\n",
            "<class 'float'>\n"
          ]
        }
      ]
    },
    {
      "cell_type": "markdown",
      "source": [
        "## Python Variable Names\n",
        "\n",
        "A variable can have a short name (like x and y) or a more descriptive name \n",
        "(age, carname, total_volume). Rules for Python variables:\n",
        "\n",
        "* A variable name must start with a letter or the underscore character\n",
        "* A variable name cannot start with a number\n",
        "* A variable name can only contain alpha-numeric characters and underscores (A-z, 0-9, and _ )\n",
        "* Variable names are case-sensitive (age, Age and AGE are three different variables)"
      ],
      "metadata": {
        "id": "jm8jYSdqaLbC"
      }
    },
    {
      "cell_type": "code",
      "source": [
        "myvar = \"John\"\n",
        "my_var = \"John\"\n",
        "_my_var = \"John\"\n",
        "myVar = \"John\"\n",
        "MYVAR = \"John\"\n",
        "myvar2 = \"John\""
      ],
      "metadata": {
        "id": "6kuAJxS9Z-p7"
      },
      "execution_count": null,
      "outputs": []
    },
    {
      "cell_type": "markdown",
      "source": [
        "## Python Variables - Assign Multiple Values\n",
        "### Many Values to Multiple Variables\n",
        "Python allows you to assign values to multiple variables in one line:\n"
      ],
      "metadata": {
        "id": "lXjIubiIak59"
      }
    },
    {
      "cell_type": "code",
      "source": [
        "x, y, z = \"Orange\", \"Banana\", \"Cherry\"\n",
        "print(x)\n",
        "print(y)\n",
        "print(z)"
      ],
      "metadata": {
        "colab": {
          "base_uri": "https://localhost:8080/"
        },
        "id": "ZY0tn6mOahqj",
        "outputId": "0ddc83aa-2c91-4de9-ab04-ee90973c3c4d"
      },
      "execution_count": null,
      "outputs": [
        {
          "output_type": "stream",
          "name": "stdout",
          "text": [
            "Orange\n",
            "Banana\n",
            "Cherry\n"
          ]
        }
      ]
    },
    {
      "cell_type": "markdown",
      "source": [
        "### One Value to Multiple Variables\n",
        "And you can assign the same value to multiple variables in one line:"
      ],
      "metadata": {
        "id": "pIovTQhOaulp"
      }
    },
    {
      "cell_type": "code",
      "source": [
        "x = y = z = \"Orange\"\n",
        "print(x)\n",
        "print(y)\n",
        "print(z)"
      ],
      "metadata": {
        "colab": {
          "base_uri": "https://localhost:8080/"
        },
        "id": "Um8eMAl4asOa",
        "outputId": "95595c37-a852-41e4-acfd-3b25b35c620d"
      },
      "execution_count": null,
      "outputs": [
        {
          "output_type": "stream",
          "name": "stdout",
          "text": [
            "Orange\n",
            "Orange\n",
            "Orange\n"
          ]
        }
      ]
    },
    {
      "cell_type": "markdown",
      "source": [
        "### Unpack a Collection\n",
        "If you have a collection of values in a list, tuple etc. Python allows you to extract the values into variables. This is called unpacking."
      ],
      "metadata": {
        "id": "-KzCJNBFa3Pq"
      }
    },
    {
      "cell_type": "code",
      "source": [
        "fruits = [\"apple\", \"banana\", \"cherry\"]\n",
        "x, y, z = fruits\n",
        "print(x)\n",
        "print(y)\n",
        "print(z)"
      ],
      "metadata": {
        "colab": {
          "base_uri": "https://localhost:8080/"
        },
        "id": "TVGGCUHkaz33",
        "outputId": "b2050349-8cd8-462a-9bce-7d3b375c2e1b"
      },
      "execution_count": null,
      "outputs": [
        {
          "output_type": "stream",
          "name": "stdout",
          "text": [
            "apple\n",
            "banana\n",
            "cherry\n"
          ]
        }
      ]
    },
    {
      "cell_type": "markdown",
      "source": [
        "## Python - Output Variables\n",
        "The Python `print()` function is often used to output variables."
      ],
      "metadata": {
        "id": "saWwsQxtbEWk"
      }
    },
    {
      "cell_type": "code",
      "source": [
        "x = \"Python is awesome\"\n",
        "print(x)"
      ],
      "metadata": {
        "colab": {
          "base_uri": "https://localhost:8080/"
        },
        "id": "Lnt5IlQnbJok",
        "outputId": "6b7c0d3c-e338-42ca-fb54-bccf101c09eb"
      },
      "execution_count": null,
      "outputs": [
        {
          "output_type": "stream",
          "name": "stdout",
          "text": [
            "Python is awesome\n"
          ]
        }
      ]
    },
    {
      "cell_type": "code",
      "source": [
        "# In the `print()` function, you output multiple variables, separated by a comma:\n",
        "\n",
        "x = \"Python\"\n",
        "y = \"is\"\n",
        "z = \"awesome\"\n",
        "print(x, y, z)"
      ],
      "metadata": {
        "colab": {
          "base_uri": "https://localhost:8080/"
        },
        "id": "Fnzmn807bOOJ",
        "outputId": "80933642-c8f8-46f4-cf85-f44e13395a1b"
      },
      "execution_count": null,
      "outputs": [
        {
          "output_type": "stream",
          "name": "stdout",
          "text": [
            "Python is awesome\n"
          ]
        }
      ]
    },
    {
      "cell_type": "code",
      "source": [
        "# You can also use the `+` operator to output multiple variables:\n",
        "\n",
        "x = \"Python \"\n",
        "y = \"is \"\n",
        "z = \"awesome\"\n",
        "print(x + y + z)"
      ],
      "metadata": {
        "colab": {
          "base_uri": "https://localhost:8080/"
        },
        "id": "9G1KzXr0bTDV",
        "outputId": "4d41239f-d1c0-4927-b86c-a31a381817cc"
      },
      "execution_count": null,
      "outputs": [
        {
          "output_type": "stream",
          "name": "stdout",
          "text": [
            "Python is awesome\n"
          ]
        }
      ]
    },
    {
      "cell_type": "code",
      "source": [
        "# For numbers, the `+` character works as a mathematical operator:\n",
        "\n",
        "x = 5\n",
        "y = 10\n",
        "print(x + y)"
      ],
      "metadata": {
        "colab": {
          "base_uri": "https://localhost:8080/"
        },
        "id": "b3j0CdZtbayZ",
        "outputId": "a370e4c3-d1f7-40f5-e812-9cc007965f92"
      },
      "execution_count": null,
      "outputs": [
        {
          "output_type": "stream",
          "name": "stdout",
          "text": [
            "15\n"
          ]
        }
      ]
    },
    {
      "cell_type": "code",
      "source": [
        "# In the print() function, when you try to combine a string and a number with the + operator, Python will give you an error:\n",
        "\n",
        "x = 5\n",
        "y = \"John\"\n",
        "print(x + y)"
      ],
      "metadata": {
        "colab": {
          "base_uri": "https://localhost:8080/",
          "height": 201
        },
        "id": "labDj113blPS",
        "outputId": "9df3bef5-d7c3-44a1-851b-abd01757b5c1"
      },
      "execution_count": null,
      "outputs": [
        {
          "output_type": "error",
          "ename": "TypeError",
          "evalue": "ignored",
          "traceback": [
            "\u001b[0;31m---------------------------------------------------------------------------\u001b[0m",
            "\u001b[0;31mTypeError\u001b[0m                                 Traceback (most recent call last)",
            "\u001b[0;32m<ipython-input-13-e5e5921deed2>\u001b[0m in \u001b[0;36m<module>\u001b[0;34m\u001b[0m\n\u001b[1;32m      3\u001b[0m \u001b[0mx\u001b[0m \u001b[0;34m=\u001b[0m \u001b[0;36m5\u001b[0m\u001b[0;34m\u001b[0m\u001b[0;34m\u001b[0m\u001b[0m\n\u001b[1;32m      4\u001b[0m \u001b[0my\u001b[0m \u001b[0;34m=\u001b[0m \u001b[0;34m\"John\"\u001b[0m\u001b[0;34m\u001b[0m\u001b[0;34m\u001b[0m\u001b[0m\n\u001b[0;32m----> 5\u001b[0;31m \u001b[0mprint\u001b[0m\u001b[0;34m(\u001b[0m\u001b[0mx\u001b[0m \u001b[0;34m+\u001b[0m \u001b[0my\u001b[0m\u001b[0;34m)\u001b[0m\u001b[0;34m\u001b[0m\u001b[0;34m\u001b[0m\u001b[0m\n\u001b[0m",
            "\u001b[0;31mTypeError\u001b[0m: unsupported operand type(s) for +: 'int' and 'str'"
          ]
        }
      ]
    },
    {
      "cell_type": "code",
      "source": [
        "# The best way to output multiple variables in the print() function is to separate them with commas, which even support different data types:\n",
        "\n",
        "x = 5\n",
        "y = \"John\"\n",
        "print(x, y)"
      ],
      "metadata": {
        "colab": {
          "base_uri": "https://localhost:8080/"
        },
        "id": "Zx5x-8ncbsnM",
        "outputId": "eb89669a-8ebf-4240-b42a-dfc7f69a755e"
      },
      "execution_count": null,
      "outputs": [
        {
          "output_type": "stream",
          "name": "stdout",
          "text": [
            "5 John\n"
          ]
        }
      ]
    },
    {
      "cell_type": "markdown",
      "source": [
        "## Python - Global Variables\n",
        "### Global Variables\n",
        "Variables that are created outside of a function (as in all of the examples above) are known as global variables.\n",
        "\n",
        "Global variables can be used by everyone, both inside of functions and outside."
      ],
      "metadata": {
        "id": "dUvWxEK6b5oH"
      }
    },
    {
      "cell_type": "code",
      "source": [
        "# Create a variable outside of a function, and use it inside the function\n",
        "\n",
        "x = \"awesome\"\n",
        "\n",
        "def myfunc():\n",
        "  print(\"Python is \" + x)\n",
        "\n",
        "myfunc()"
      ],
      "metadata": {
        "id": "0XUCB14EcBZA",
        "outputId": "a317e1fb-7d9c-40fc-a7de-aa819b53d611",
        "colab": {
          "base_uri": "https://localhost:8080/"
        }
      },
      "execution_count": null,
      "outputs": [
        {
          "output_type": "stream",
          "name": "stdout",
          "text": [
            "Python is awesome\n"
          ]
        }
      ]
    },
    {
      "cell_type": "markdown",
      "source": [
        "If you create a variable with the same name inside a function, this variable will be local, and can only be used inside the function. The global variable with the same name will remain as it was, global and with the original value."
      ],
      "metadata": {
        "id": "IuvVu_EMcmE0"
      }
    },
    {
      "cell_type": "code",
      "source": [
        "# Create a variable inside a function, with the same name as the global variable\n",
        "\n",
        "x = \"awesome\"\n",
        "\n",
        "def myfunc():\n",
        "  x = \"fantastic\"\n",
        "  print(\"Python is \" + x)\n",
        "\n",
        "myfunc()\n",
        "\n",
        "print(\"Python is \" + x)"
      ],
      "metadata": {
        "id": "wqQf3LXrcmpX",
        "outputId": "04398122-793a-4568-edef-68d95abfeb4e",
        "colab": {
          "base_uri": "https://localhost:8080/"
        }
      },
      "execution_count": null,
      "outputs": [
        {
          "output_type": "stream",
          "name": "stdout",
          "text": [
            "Python is fantastic\n",
            "Python is awesome\n"
          ]
        }
      ]
    },
    {
      "cell_type": "markdown",
      "source": [
        "###The global Keyword\n",
        "Normally, when you create a variable inside a function, that variable is local, and can only be used inside that function.\n",
        "\n",
        "To create a global variable inside a function, you can use the `global` keyword."
      ],
      "metadata": {
        "id": "Pa9wlwYucsub"
      }
    },
    {
      "cell_type": "code",
      "source": [
        "# If you use the global keyword, the variable belongs to the global scope:\n",
        "\n",
        "def myfunc():\n",
        "  global x\n",
        "  x = \"fantastic\"\n",
        "\n",
        "myfunc()\n",
        "\n",
        "print(\"Python is \" + x)"
      ],
      "metadata": {
        "id": "ewIXLSlvco-2",
        "outputId": "361011b8-9564-4f17-e861-7eb02e67b028",
        "colab": {
          "base_uri": "https://localhost:8080/"
        }
      },
      "execution_count": null,
      "outputs": [
        {
          "output_type": "stream",
          "name": "stdout",
          "text": [
            "Python is fantastic\n"
          ]
        }
      ]
    },
    {
      "cell_type": "markdown",
      "source": [
        "Also, use the global keyword if you want to change a `global` variable inside a function."
      ],
      "metadata": {
        "id": "V8FFvWh1c18D"
      }
    },
    {
      "cell_type": "code",
      "source": [
        "# To change the value of a global variable inside a function, refer to the variable by using the global keyword:\n",
        "\n",
        "x = \"awesome\"\n",
        "\n",
        "def myfunc():\n",
        "  global x\n",
        "  x = \"fantastic\"\n",
        "\n",
        "myfunc()\n",
        "\n",
        "print(\"Python is \" + x)"
      ],
      "metadata": {
        "id": "fo_EcVM3cztL",
        "outputId": "abd6daa6-72d4-4b72-838a-194e6465a29c",
        "colab": {
          "base_uri": "https://localhost:8080/"
        }
      },
      "execution_count": null,
      "outputs": [
        {
          "output_type": "stream",
          "name": "stdout",
          "text": [
            "Python is fantastic\n"
          ]
        }
      ]
    },
    {
      "cell_type": "markdown",
      "source": [
        "# Python Data Types\n",
        "\n",
        "## Built-in Data Types\n",
        "In programming, data type is an important concept.\n",
        "\n",
        "Variables can store data of different types, and different types can do different things.\n",
        "\n",
        "Python has the following data types built-in by default, in these categories:\n",
        "\n",
        "\n",
        "|             |                   |\n",
        "| :- | -: | \n",
        "| Text Type:\t | `Str` \n",
        "| Numeric: \t | `int`, `float`, `complex` \n",
        "| Sequence Types:\t\t | `List`,`tuple`, `range` \n",
        "| Mapping Type:\t | `dict` \n",
        "| Set Type:\t | `Set`, `frozenset`\n",
        "| Boolean  Type:\t | `bool` \n",
        "| Binary   Type:\t | `bytes`,`bytearray`,`memoryview`\n",
        "| None  Type:\t | `NoneType` \n",
        "\n",
        "## Getting the Data Type\n",
        "You can get the data type of any object by using the `type()` function:"
      ],
      "metadata": {
        "id": "v2dp-gocg0mP"
      }
    },
    {
      "cell_type": "code",
      "source": [
        "#Print the data type of the variable x:\n",
        "\n",
        "x = 5\n",
        "print(type(x))"
      ],
      "metadata": {
        "colab": {
          "base_uri": "https://localhost:8080/"
        },
        "id": "2hYqUYcthZTi",
        "outputId": "61a33577-c318-4868-96c7-7bd72752ea99"
      },
      "execution_count": null,
      "outputs": [
        {
          "output_type": "stream",
          "name": "stdout",
          "text": [
            "<class 'int'>\n"
          ]
        }
      ]
    },
    {
      "cell_type": "markdown",
      "source": [
        "![image.png](data:image/png;base64,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)"
      ],
      "metadata": {
        "id": "ZgaP5VeMjLhm"
      }
    },
    {
      "cell_type": "markdown",
      "source": [
        "# Python Number \n",
        "\n",
        "There are three numeric types in Python:\n",
        "\n",
        "     1. int\n",
        "     2. float\n",
        "     3. complex\n",
        "Variables of numeric types are created when you assign a value to them:"
      ],
      "metadata": {
        "id": "ovM28dwZjcTh"
      }
    },
    {
      "cell_type": "code",
      "source": [
        "x = 1    # int\n",
        "y = 2.8  # float\n",
        "z = 1j   # complex\n",
        "\n",
        "# To verify the type of any object in Python, use the type() function:\n",
        "\n",
        "print(type(x))\n",
        "print(type(y))\n",
        "print(type(z))"
      ],
      "metadata": {
        "colab": {
          "base_uri": "https://localhost:8080/"
        },
        "id": "NrU-W5RFjMNf",
        "outputId": "51e23d8e-c855-4b84-ff17-5d37583e3761"
      },
      "execution_count": null,
      "outputs": [
        {
          "output_type": "stream",
          "name": "stdout",
          "text": [
            "<class 'int'>\n",
            "<class 'float'>\n",
            "<class 'complex'>\n"
          ]
        }
      ]
    },
    {
      "cell_type": "markdown",
      "source": [
        "## Int \n",
        "Int, or integer, is a whole number, positive or negative, without decimals, of unlimited length."
      ],
      "metadata": {
        "id": "ad-DxYMJj_su"
      }
    },
    {
      "cell_type": "code",
      "source": [
        "x = 1\n",
        "y = 35656222554887711\n",
        "z = -3255522\n",
        "\n",
        "print(type(x))\n",
        "print(type(y))\n",
        "print(type(z))"
      ],
      "metadata": {
        "id": "DsRLaikjj8-5",
        "outputId": "9398118e-2410-4498-debc-021dc33e0e3c",
        "colab": {
          "base_uri": "https://localhost:8080/"
        }
      },
      "execution_count": null,
      "outputs": [
        {
          "output_type": "stream",
          "name": "stdout",
          "text": [
            "<class 'int'>\n",
            "<class 'int'>\n",
            "<class 'int'>\n"
          ]
        }
      ]
    },
    {
      "cell_type": "markdown",
      "source": [
        "## Float\n",
        "Float, or \"floating point number\" is a number, positive or negative, containing one or more decimals."
      ],
      "metadata": {
        "id": "ib34roiPkMc8"
      }
    },
    {
      "cell_type": "code",
      "source": [
        "x = 1.10\n",
        "y = 1.0\n",
        "z = -35.59\n",
        "\n",
        "print(type(x))\n",
        "print(type(y))\n",
        "print(type(z))"
      ],
      "metadata": {
        "id": "UlkKplFckHwY",
        "outputId": "ccc8ffde-fc3f-4285-adbc-c1cff1081431",
        "colab": {
          "base_uri": "https://localhost:8080/"
        }
      },
      "execution_count": null,
      "outputs": [
        {
          "output_type": "stream",
          "name": "stdout",
          "text": [
            "<class 'float'>\n",
            "<class 'float'>\n",
            "<class 'float'>\n"
          ]
        }
      ]
    },
    {
      "cell_type": "code",
      "source": [
        "# Float can also be scientific numbers with an \"e\" to indicate the power of 10.\n",
        "\n",
        "x = 35e3\n",
        "y = 12E4\n",
        "z = -87.7e100\n",
        "\n",
        "print(type(x))\n",
        "print(type(y))\n",
        "print(type(z))"
      ],
      "metadata": {
        "id": "egrOhrbPkQNi",
        "outputId": "1a842c13-1370-4e31-c6a5-dbcfb56dabb6",
        "colab": {
          "base_uri": "https://localhost:8080/"
        }
      },
      "execution_count": null,
      "outputs": [
        {
          "output_type": "stream",
          "name": "stdout",
          "text": [
            "<class 'float'>\n",
            "<class 'float'>\n",
            "<class 'float'>\n"
          ]
        }
      ]
    },
    {
      "cell_type": "markdown",
      "source": [
        "## Complex\n",
        "Complex numbers are written with a \"j\" as the imaginary part:"
      ],
      "metadata": {
        "id": "6kLVHVColPCa"
      }
    },
    {
      "cell_type": "code",
      "source": [
        "x = 3+5j\n",
        "y = 5j\n",
        "z = -5j\n",
        "\n",
        "print(type(x))\n",
        "print(type(y))\n",
        "print(type(z))"
      ],
      "metadata": {
        "id": "NsZ2_p8pkXG3",
        "outputId": "e600b84c-e947-4b8f-b992-ed34c80cce68",
        "colab": {
          "base_uri": "https://localhost:8080/"
        }
      },
      "execution_count": null,
      "outputs": [
        {
          "output_type": "stream",
          "name": "stdout",
          "text": [
            "<class 'complex'>\n",
            "<class 'complex'>\n",
            "<class 'complex'>\n"
          ]
        }
      ]
    },
    {
      "cell_type": "markdown",
      "source": [
        "## Type Conversion\n",
        "You can convert from one type to another with the `int()`, `float()`, and `complex()` methods:"
      ],
      "metadata": {
        "id": "aTcjHeoXlYLo"
      }
    },
    {
      "cell_type": "code",
      "source": [
        "x = 1    # int\n",
        "y = 2.8  # float\n",
        "z = 1j   # complex\n",
        "\n",
        "#convert from int to float:\n",
        "a = float(x)\n",
        "\n",
        "#convert from float to int:\n",
        "b = int(y)\n",
        "\n",
        "#convert from int to complex:\n",
        "c = complex(x)\n",
        "\n",
        "print(a)\n",
        "print(b)\n",
        "print(c)\n",
        "\n",
        "print(type(a))\n",
        "print(type(b))\n",
        "print(type(c))"
      ],
      "metadata": {
        "id": "jGrT_a0XlTl6",
        "outputId": "4d5962d9-9d9e-40f4-9f2f-7146ae35701f",
        "colab": {
          "base_uri": "https://localhost:8080/"
        }
      },
      "execution_count": null,
      "outputs": [
        {
          "output_type": "stream",
          "name": "stdout",
          "text": [
            "1.0\n",
            "2\n",
            "(1+0j)\n",
            "<class 'float'>\n",
            "<class 'int'>\n",
            "<class 'complex'>\n"
          ]
        }
      ]
    },
    {
      "cell_type": "markdown",
      "source": [
        "    Note: You cannot convert complex numbers into another number type.\n",
        "\n"
      ],
      "metadata": {
        "id": "lI6YAmOilzaX"
      }
    },
    {
      "cell_type": "markdown",
      "source": [
        "## Random Number\n",
        "Python does not have a `random()` function to make a random number, but Python has a built-in module called `random` that can be used to make random numbers:"
      ],
      "metadata": {
        "id": "UbJXj3uhl5Au"
      }
    },
    {
      "cell_type": "code",
      "source": [
        "#Import the random module, and display a random number between 1 and 9:\n",
        "\n",
        "import random\n",
        "\n",
        "print(random.randrange(1, 10))"
      ],
      "metadata": {
        "id": "T_ytgNkCle6f",
        "colab": {
          "base_uri": "https://localhost:8080/"
        },
        "outputId": "b27fe04b-8924-4d1c-aca0-31de9dcb4fa1"
      },
      "execution_count": null,
      "outputs": [
        {
          "output_type": "stream",
          "name": "stdout",
          "text": [
            "3\n"
          ]
        }
      ]
    },
    {
      "cell_type": "markdown",
      "source": [
        "# Python Casting\n",
        "\n",
        "## Specify a Variable Type\n",
        "There may be times when you want to specify a type on to a variable. This can be done with casting. Python is an object-orientated language, and as such it uses classes to define data types, including its primitive types.\n",
        "\n",
        "Casting in python is therefore done using constructor functions:\n",
        "\n",
        "|             |                   |\n",
        "| :- | -: | \n",
        "| `int()` |  constructs an integer number from an integer literal, a float literal (by removing all decimals), or a string literal (providing the string represents a whole number)\n",
        "| `float()` | constructs a float number from an integer literal, a float literal or a string literal (providing the string represents a float or an integer)\n",
        "|`str()` | constructs a string from a wide variety of data types, including strings, integer literals and float literals"
      ],
      "metadata": {
        "id": "J9EoeOoWm2x8"
      }
    },
    {
      "cell_type": "code",
      "source": [
        "x = int(1)   # x will be 1\n",
        "y = int(2.8) # y will be 2\n",
        "z = int(\"3\") # z will be 3"
      ],
      "metadata": {
        "id": "Rkg363SZmDHs"
      },
      "execution_count": null,
      "outputs": []
    },
    {
      "cell_type": "code",
      "source": [
        "x = float(1)     # x will be 1.0\n",
        "y = float(2.8)   # y will be 2.8\n",
        "z = float(\"3\")   # z will be 3.0\n",
        "w = float(\"4.2\") # w will be 4.2"
      ],
      "metadata": {
        "id": "vANLBDZ-nyfr"
      },
      "execution_count": null,
      "outputs": []
    },
    {
      "cell_type": "code",
      "source": [
        "x = str(\"s1\") # x will be 's1'\n",
        "y = str(2)    # y will be '2'\n",
        "z = str(3.0)  # z will be '3.0'"
      ],
      "metadata": {
        "id": "e6gDUCaFoClm"
      },
      "execution_count": null,
      "outputs": []
    },
    {
      "cell_type": "markdown",
      "source": [
        "# Python Strings\n",
        "## Strings\n",
        "Strings in python are surrounded by either single quotation marks, or double quotation marks.\n",
        "\n",
        "`'hello'` is the same as `\"hello\"`.\n",
        "\n",
        "You can display a string literal with the `print()` function:"
      ],
      "metadata": {
        "id": "1ZQvTU3Tky98"
      }
    },
    {
      "cell_type": "code",
      "source": [
        "print(\"Hello\")\n",
        "print('Hello')"
      ],
      "metadata": {
        "id": "QurdfBhvoEXR",
        "colab": {
          "base_uri": "https://localhost:8080/"
        },
        "outputId": "94fce1f8-0fb2-4180-ef9a-595df4fd9946"
      },
      "execution_count": null,
      "outputs": [
        {
          "output_type": "stream",
          "name": "stdout",
          "text": [
            "Hello\n",
            "Hello\n"
          ]
        }
      ]
    },
    {
      "cell_type": "markdown",
      "source": [
        "## Assign String to a Variable\n",
        "\n",
        "Assigning a string to a variable is done with the variable name followed by an equal sign and the string:\n",
        "\n"
      ],
      "metadata": {
        "id": "Xf6MQ0ErlS1w"
      }
    },
    {
      "cell_type": "code",
      "source": [
        "x = \"Python\"\n",
        "print(x)"
      ],
      "metadata": {
        "colab": {
          "base_uri": "https://localhost:8080/"
        },
        "id": "bLGnjbWzlVRv",
        "outputId": "f2c1a42f-d52c-44c4-a885-fab914602811"
      },
      "execution_count": null,
      "outputs": [
        {
          "output_type": "stream",
          "name": "stdout",
          "text": [
            "Python\n"
          ]
        }
      ]
    },
    {
      "cell_type": "markdown",
      "source": [
        "## Multiline Strings\n",
        "You can assign a multiline string to a variable by using three quotes:"
      ],
      "metadata": {
        "id": "VGi0-VHhls0W"
      }
    },
    {
      "cell_type": "code",
      "source": [
        "# You can use three double quotes:\n",
        "\n",
        "a = \"\"\"The University of Tabriz is a public university located in Tabriz, East Azerbaijan\n",
        " with the fundamental aim of creating a center of excellence in higher education and research.\n",
        " It is one of the top five high-ranked universities in Iran and one of the ten most selective \n",
        " niversities in the country\"\"\"\n",
        "print(a)"
      ],
      "metadata": {
        "colab": {
          "base_uri": "https://localhost:8080/"
        },
        "id": "LY-y26OOloCl",
        "outputId": "ae79342b-263c-43a9-8f3b-f5d847348cc6"
      },
      "execution_count": null,
      "outputs": [
        {
          "output_type": "stream",
          "name": "stdout",
          "text": [
            "The University of Tabriz is a public university located in Tabriz, East Azerbaijan\n",
            " with the fundamental aim of creating a center of excellence in higher education and research.\n",
            " It is one of the top five high-ranked universities in Iran and one of the ten most selective \n",
            " niversities in the country\n"
          ]
        }
      ]
    },
    {
      "cell_type": "code",
      "source": [
        "# Or three single quotes:\n",
        "\n",
        "a = '''he University of Tabriz is a public university located in Tabriz, East Azerbaijan\n",
        " with the fundamental aim of creating a center of excellence in higher education and research.\n",
        " It is one of the top five high-ranked universities in Iran and one of the ten most selective \n",
        " niversities in the country'''\n",
        "print(a)"
      ],
      "metadata": {
        "colab": {
          "base_uri": "https://localhost:8080/"
        },
        "id": "QZ-TSSfXmD5Y",
        "outputId": "22534df7-5817-42b8-caa8-20529f53e565"
      },
      "execution_count": null,
      "outputs": [
        {
          "output_type": "stream",
          "name": "stdout",
          "text": [
            "he University of Tabriz is a public university located in Tabriz, East Azerbaijan\n",
            " with the fundamental aim of creating a center of excellence in higher education and research.\n",
            " It is one of the top five high-ranked universities in Iran and one of the ten most selective \n",
            " niversities in the country\n"
          ]
        }
      ]
    },
    {
      "cell_type": "markdown",
      "source": [
        "## Strings are Arrays\n",
        "\n",
        "Like many other popular programming languages, strings in Python are arrays of bytes representing unicode characters.\n",
        "\n",
        "However, Python does not have a character data type, a single character is simply a string with a length of 1.\n",
        "\n",
        "Square brackets can be used to access elements of the string."
      ],
      "metadata": {
        "id": "mvGEfudzmDck"
      }
    },
    {
      "cell_type": "code",
      "source": [
        "# Get the character at position 1 (remember that the first character has the position 0):\n",
        "\n",
        "a = \"Hello, World!\"\n",
        "print(a[1])"
      ],
      "metadata": {
        "colab": {
          "base_uri": "https://localhost:8080/"
        },
        "id": "qbfPVsX8mSmD",
        "outputId": "cefb66df-ec84-4d08-e4b8-171c2547ac58"
      },
      "execution_count": null,
      "outputs": [
        {
          "output_type": "stream",
          "name": "stdout",
          "text": [
            "e\n"
          ]
        }
      ]
    },
    {
      "cell_type": "markdown",
      "source": [
        "## Looping Through a String\n",
        "\n",
        "Since strings are arrays, we can loop through the characters in a string, with a `for` loop."
      ],
      "metadata": {
        "id": "wIiV84FwmdnF"
      }
    },
    {
      "cell_type": "code",
      "source": [
        "#Loop through the letters in the word \"banana\":\n",
        "\n",
        "for x in \"banana\":\n",
        "  print(x)"
      ],
      "metadata": {
        "colab": {
          "base_uri": "https://localhost:8080/"
        },
        "id": "6UZWujtVmWNA",
        "outputId": "39fd84e8-413f-433b-dd30-1b0eb860950b"
      },
      "execution_count": null,
      "outputs": [
        {
          "output_type": "stream",
          "name": "stdout",
          "text": [
            "b\n",
            "a\n",
            "n\n",
            "a\n",
            "n\n",
            "a\n"
          ]
        }
      ]
    },
    {
      "cell_type": "markdown",
      "source": [
        "## String Length\n",
        "To get the length of a string, use the `len()` function."
      ],
      "metadata": {
        "id": "JD4PxrHJneuc"
      }
    },
    {
      "cell_type": "code",
      "source": [
        "# The len() function returns the length of a string:\n",
        "\n",
        "a = \"Hello, World!\"\n",
        "print(len(a))"
      ],
      "metadata": {
        "colab": {
          "base_uri": "https://localhost:8080/"
        },
        "id": "MZ--JinQmygl",
        "outputId": "c28cf624-035c-4340-eafc-33e760ebc891"
      },
      "execution_count": null,
      "outputs": [
        {
          "output_type": "stream",
          "name": "stdout",
          "text": [
            "13\n"
          ]
        }
      ]
    },
    {
      "cell_type": "markdown",
      "source": [
        "## Check String\n",
        "To check if a certain phrase or character is present in a string, we can use the keyword `in`.\n",
        "\n"
      ],
      "metadata": {
        "id": "dvGju4ipnoz9"
      }
    },
    {
      "cell_type": "code",
      "source": [
        "# Check if \"free\" is present in the following text:\n",
        "\n",
        "txt = \"The best things in life are free!\"\n",
        "print(\"free\" in txt)"
      ],
      "metadata": {
        "colab": {
          "base_uri": "https://localhost:8080/"
        },
        "id": "O59qhOA5nmiX",
        "outputId": "efcaaeb0-6f64-4dc1-b5e6-bc68d4194001"
      },
      "execution_count": null,
      "outputs": [
        {
          "output_type": "stream",
          "name": "stdout",
          "text": [
            "True\n"
          ]
        }
      ]
    },
    {
      "cell_type": "markdown",
      "source": [
        "Use it in an `if` statement:"
      ],
      "metadata": {
        "id": "OhAXoUWjn8kR"
      }
    },
    {
      "cell_type": "code",
      "source": [
        "txt = \"The best things in life are free!\"\n",
        "if \"free\" in txt:\n",
        "  print(\"Yes, 'free' is present.\")"
      ],
      "metadata": {
        "colab": {
          "base_uri": "https://localhost:8080/"
        },
        "id": "M-u74YGwnwvl",
        "outputId": "c75805dc-17a8-401b-e86c-cabc9ccef7c0"
      },
      "execution_count": null,
      "outputs": [
        {
          "output_type": "stream",
          "name": "stdout",
          "text": [
            "Yes, 'free' is present.\n"
          ]
        }
      ]
    },
    {
      "cell_type": "markdown",
      "source": [
        "## Check if NOT\n",
        "\n",
        "To check if a certain phrase or character is NOT present in a string, we can use the keyword `not in`."
      ],
      "metadata": {
        "id": "BsE67EQCoCUo"
      }
    },
    {
      "cell_type": "code",
      "source": [
        "# Check if \"expensive\" is NOT present in the following text:\n",
        "\n",
        "txt = \"The best things in life are free!\"\n",
        "print(\"expensive\" not in txt)"
      ],
      "metadata": {
        "colab": {
          "base_uri": "https://localhost:8080/"
        },
        "id": "IIS6wOYdoAHJ",
        "outputId": "3a871c98-3103-4faf-f6de-774c9bac6a99"
      },
      "execution_count": null,
      "outputs": [
        {
          "output_type": "stream",
          "name": "stdout",
          "text": [
            "True\n"
          ]
        }
      ]
    },
    {
      "cell_type": "markdown",
      "source": [
        "Use it in an `if` statement:"
      ],
      "metadata": {
        "id": "3ohuEQxyoJjR"
      }
    },
    {
      "cell_type": "code",
      "source": [
        "# print only if \"expensive\" is NOT present:\n",
        "\n",
        "txt = \"The best things in life are free!\"\n",
        "if \"expensive\" not in txt:\n",
        "  print(\"No, 'expensive' is NOT present.\")"
      ],
      "metadata": {
        "colab": {
          "base_uri": "https://localhost:8080/"
        },
        "id": "hQtnVk5SoHSW",
        "outputId": "4474ba4c-895d-4691-afa3-7fcfa7c5223f"
      },
      "execution_count": null,
      "outputs": [
        {
          "output_type": "stream",
          "name": "stdout",
          "text": [
            "No, 'expensive' is NOT present.\n"
          ]
        }
      ]
    },
    {
      "cell_type": "markdown",
      "source": [
        "# Python - Slicing Strings\n",
        "\n",
        "## Slicing\n",
        "You can return a range of characters by using the slice syntax.\n",
        "\n",
        "Specify the start index and the end index, separated by a colon, to return a part of the string."
      ],
      "metadata": {
        "id": "iyeY-qwAok95"
      }
    },
    {
      "cell_type": "code",
      "source": [
        "#Get the characters from position 2 to position 5 (not included):\n",
        "\n",
        "b = \"Hello, World!\"\n",
        "print(b[2:5])"
      ],
      "metadata": {
        "colab": {
          "base_uri": "https://localhost:8080/"
        },
        "id": "Jf5eb81YoRd1",
        "outputId": "85171171-c98a-4786-d786-322f4b9e0704"
      },
      "execution_count": null,
      "outputs": [
        {
          "output_type": "stream",
          "name": "stdout",
          "text": [
            "llo\n"
          ]
        }
      ]
    },
    {
      "cell_type": "markdown",
      "source": [
        "## Slice From the Start\n",
        "\n",
        "By leaving out the start index, the range will start at the first character:"
      ],
      "metadata": {
        "id": "8twsyI1lotvB"
      }
    },
    {
      "cell_type": "code",
      "source": [
        "# Get the characters from the start to position 5 (not included):\n",
        "\n",
        "b = \"Hello, World!\"\n",
        "print(b[:5])"
      ],
      "metadata": {
        "colab": {
          "base_uri": "https://localhost:8080/"
        },
        "id": "mRbV7dpdoqFS",
        "outputId": "ea1ebf59-5809-47bb-9887-619eb1901e51"
      },
      "execution_count": null,
      "outputs": [
        {
          "output_type": "stream",
          "name": "stdout",
          "text": [
            "Hello\n"
          ]
        }
      ]
    },
    {
      "cell_type": "markdown",
      "source": [
        "## Slice To the End\n",
        "By leaving out the end index, the range will go to the end:"
      ],
      "metadata": {
        "id": "1MNv8YzKpAy-"
      }
    },
    {
      "cell_type": "code",
      "source": [
        "# Get the characters from position 2, and all the way to the end:\n",
        "\n",
        "b = \"Hello, World!\"\n",
        "print(b[2:])"
      ],
      "metadata": {
        "colab": {
          "base_uri": "https://localhost:8080/"
        },
        "id": "calvdZQ8o-sv",
        "outputId": "0ecb6ee6-2b98-4c51-e45c-95a25b6b0b76"
      },
      "execution_count": null,
      "outputs": [
        {
          "output_type": "stream",
          "name": "stdout",
          "text": [
            "llo, World!\n"
          ]
        }
      ]
    },
    {
      "cell_type": "markdown",
      "source": [
        "## Negative Indexing\n",
        "Use negative indexes to start the slice from the end of the string:"
      ],
      "metadata": {
        "id": "5WMpzdAEpF_c"
      }
    },
    {
      "cell_type": "code",
      "source": [
        "'''Get the characters:\n",
        "\n",
        "From: \"o\" in \"World!\" (position -5)\n",
        "\n",
        "To, but not included: \"d\" in \"World!\" (position -2):'''\n",
        "\n",
        "b = \"Hello, World!\"\n",
        "print(b[-5:-2])"
      ],
      "metadata": {
        "colab": {
          "base_uri": "https://localhost:8080/"
        },
        "id": "0M1xGYYBpEBD",
        "outputId": "fb680813-4701-4d35-8ffa-101498cbffbd"
      },
      "execution_count": null,
      "outputs": [
        {
          "output_type": "stream",
          "name": "stdout",
          "text": [
            "orl\n"
          ]
        }
      ]
    },
    {
      "cell_type": "markdown",
      "source": [
        "# Python - Modify Strings\n",
        "\n",
        "Python has a set of built-in methods that you can use on strings.\n",
        "\n",
        "##Upper Case & Lower Case\n",
        "\n"
      ],
      "metadata": {
        "id": "QNlHgaeepO5u"
      }
    },
    {
      "cell_type": "code",
      "source": [
        "#The upper() method returns the string in upper case:\n",
        "\n",
        "a = \"Hello, World!\"\n",
        "print(a.upper())"
      ],
      "metadata": {
        "colab": {
          "base_uri": "https://localhost:8080/"
        },
        "id": "NDB0OsN-pMBz",
        "outputId": "328a23bb-a20f-4105-d4ec-9a2faf048dfd"
      },
      "execution_count": null,
      "outputs": [
        {
          "output_type": "stream",
          "name": "stdout",
          "text": [
            "HELLO, WORLD!\n"
          ]
        }
      ]
    },
    {
      "cell_type": "code",
      "source": [
        "# The lower() method returns the string in lower case:\n",
        "\n",
        "a = \"Hello, World!\"\n",
        "print(a.lower())"
      ],
      "metadata": {
        "colab": {
          "base_uri": "https://localhost:8080/"
        },
        "id": "e7TP-XtRpVfR",
        "outputId": "2e6853d9-0eb0-4c05-9b69-ae25f43eb6e8"
      },
      "execution_count": null,
      "outputs": [
        {
          "output_type": "stream",
          "name": "stdout",
          "text": [
            "hello, world!\n"
          ]
        }
      ]
    },
    {
      "cell_type": "markdown",
      "source": [
        "## Remove Whitespace\n",
        "Whitespace is the space before and/or after the actual text, and very often you want to remove this space.\n",
        "\n"
      ],
      "metadata": {
        "id": "UsXn_bOUpedj"
      }
    },
    {
      "cell_type": "code",
      "source": [
        "# The strip() method removes any whitespace from the beginning or the end:\n",
        "\n",
        "a = \" Hello, World! \"\n",
        "print(a.strip()) # returns \"Hello, World!\""
      ],
      "metadata": {
        "colab": {
          "base_uri": "https://localhost:8080/"
        },
        "id": "6xJPPol8pYBK",
        "outputId": "11680c9e-3780-4a9d-d1b4-8bd0a3e4cd70"
      },
      "execution_count": null,
      "outputs": [
        {
          "output_type": "stream",
          "name": "stdout",
          "text": [
            "Hello, World!\n"
          ]
        }
      ]
    },
    {
      "cell_type": "markdown",
      "source": [
        "# Python - String Concatenation\n",
        "##String Concatenation\n",
        "To concatenate, or combine, two strings you can use the + operator."
      ],
      "metadata": {
        "id": "xHTSYFFipl2h"
      }
    },
    {
      "cell_type": "code",
      "source": [
        "# Merge variable a with variable b into variable c:\n",
        "\n",
        "a = \"Hello\"\n",
        "b = \"World\"\n",
        "c = a + b\n",
        "print(c)"
      ],
      "metadata": {
        "colab": {
          "base_uri": "https://localhost:8080/"
        },
        "id": "-P_sQktRpipR",
        "outputId": "66483d7a-0ba5-49f7-cba1-cca2a2407a80"
      },
      "execution_count": null,
      "outputs": [
        {
          "output_type": "stream",
          "name": "stdout",
          "text": [
            "HelloWorld\n"
          ]
        }
      ]
    },
    {
      "cell_type": "code",
      "source": [
        "# To add a space between them, add a \" \":\n",
        "\n",
        "a = \"Hello\"\n",
        "b = \"World\"\n",
        "c = a + \" \" + b\n",
        "print(c)"
      ],
      "metadata": {
        "colab": {
          "base_uri": "https://localhost:8080/"
        },
        "id": "YladSfOLpsx8",
        "outputId": "b2b6acec-4616-4f16-de7c-27c13e3d27dd"
      },
      "execution_count": null,
      "outputs": [
        {
          "output_type": "stream",
          "name": "stdout",
          "text": [
            "Hello World\n"
          ]
        }
      ]
    },
    {
      "cell_type": "markdown",
      "source": [
        "# Python - Format - Strings\n",
        "\n",
        "## String Format\n",
        "As we learned in the Python Variables chapter, we cannot combine strings and numbers like this:"
      ],
      "metadata": {
        "id": "1GRe4qKbqDAB"
      }
    },
    {
      "cell_type": "code",
      "source": [
        "age = 36\n",
        "txt = \"My name is John, I am \" + age\n",
        "print(txt)"
      ],
      "metadata": {
        "colab": {
          "base_uri": "https://localhost:8080/",
          "height": 201
        },
        "id": "CECESvhzpu6S",
        "outputId": "397a4f7f-cc26-4b5c-efe1-e4894143f1a5"
      },
      "execution_count": null,
      "outputs": [
        {
          "output_type": "error",
          "ename": "TypeError",
          "evalue": "ignored",
          "traceback": [
            "\u001b[0;31m---------------------------------------------------------------------------\u001b[0m",
            "\u001b[0;31mTypeError\u001b[0m                                 Traceback (most recent call last)",
            "\u001b[0;32m<ipython-input-22-4d1b227cff41>\u001b[0m in \u001b[0;36m<module>\u001b[0;34m\u001b[0m\n\u001b[1;32m      1\u001b[0m \u001b[0mage\u001b[0m \u001b[0;34m=\u001b[0m \u001b[0;36m36\u001b[0m\u001b[0;34m\u001b[0m\u001b[0;34m\u001b[0m\u001b[0m\n\u001b[0;32m----> 2\u001b[0;31m \u001b[0mtxt\u001b[0m \u001b[0;34m=\u001b[0m \u001b[0;34m\"My name is John, I am \"\u001b[0m \u001b[0;34m+\u001b[0m \u001b[0mage\u001b[0m\u001b[0;34m\u001b[0m\u001b[0;34m\u001b[0m\u001b[0m\n\u001b[0m\u001b[1;32m      3\u001b[0m \u001b[0mprint\u001b[0m\u001b[0;34m(\u001b[0m\u001b[0mtxt\u001b[0m\u001b[0;34m)\u001b[0m\u001b[0;34m\u001b[0m\u001b[0;34m\u001b[0m\u001b[0m\n",
            "\u001b[0;31mTypeError\u001b[0m: can only concatenate str (not \"int\") to str"
          ]
        }
      ]
    },
    {
      "cell_type": "markdown",
      "source": [
        "But we can combine strings and numbers by using the `format()` method!\n",
        "\n",
        "The `format()` method takes the passed arguments, formats them, and places them in the string where the placeholders `{}` are:"
      ],
      "metadata": {
        "id": "j-ArTTmbqRxT"
      }
    },
    {
      "cell_type": "code",
      "source": [
        "#Use the format() method to insert numbers into strings:\n",
        "\n",
        "age = 36\n",
        "txt = \"My name is John, and I am {}\"\n",
        "print(txt.format(age))"
      ],
      "metadata": {
        "id": "KexOygOaqRFW",
        "outputId": "97d8cd10-81e9-4e0d-fbda-26eb6d4b60ca",
        "colab": {
          "base_uri": "https://localhost:8080/"
        }
      },
      "execution_count": null,
      "outputs": [
        {
          "output_type": "stream",
          "name": "stdout",
          "text": [
            "My name is John, and I am 36\n"
          ]
        }
      ]
    },
    {
      "cell_type": "code",
      "source": [
        "# The format() method takes unlimited number of arguments, and are placed into the respective placeholders:\n",
        "\n",
        "quantity = 3\n",
        "itemno = 567\n",
        "price = 49.95\n",
        "myorder = \"I want {} pieces of item {} for {} dollars.\"\n",
        "print(myorder.format(quantity, itemno, price))"
      ],
      "metadata": {
        "id": "yIAPMD5mqY1i",
        "outputId": "f4ae6181-aea6-461c-ac6a-4810f1d46195",
        "colab": {
          "base_uri": "https://localhost:8080/"
        }
      },
      "execution_count": null,
      "outputs": [
        {
          "output_type": "stream",
          "name": "stdout",
          "text": [
            "I want 3 pieces of item 567 for 49.95 dollars.\n"
          ]
        }
      ]
    },
    {
      "cell_type": "markdown",
      "source": [
        "You can use index numbers `{0}` to be sure the arguments are placed in the correct placeholders:\n",
        "\n"
      ],
      "metadata": {
        "id": "eEMsMPFUqllz"
      }
    },
    {
      "cell_type": "code",
      "source": [
        "quantity = 3\n",
        "itemno = 567\n",
        "price = 49.95\n",
        "myorder = \"I want to pay {2} dollars for {0} pieces of item {1}.\"\n",
        "print(myorder.format(quantity, itemno, price))"
      ],
      "metadata": {
        "id": "zcKxzzykqjKG",
        "outputId": "e3aef8f9-037b-4c7d-c23e-bb3f83065a9a",
        "colab": {
          "base_uri": "https://localhost:8080/"
        }
      },
      "execution_count": null,
      "outputs": [
        {
          "output_type": "stream",
          "name": "stdout",
          "text": [
            "I want to pay 49.95 dollars for 3 pieces of item 567.\n"
          ]
        }
      ]
    },
    {
      "cell_type": "markdown",
      "source": [
        "# Python - Escape Characters\n",
        "## Escape Character\n",
        "To insert characters that are illegal in a string, use an escape character.\n",
        "\n",
        "An escape character is a backslash `\\` followed by the character you want to insert.\n",
        "\n",
        "An example of an illegal character is a double quote inside a string that is surrounded by double quotes:"
      ],
      "metadata": {
        "id": "xv9NvaQSqxAu"
      }
    },
    {
      "cell_type": "code",
      "source": [
        "txt = \"We are the so-called \"Vikings\" from the north.\""
      ],
      "metadata": {
        "id": "UzTCOOPtqooH",
        "outputId": "dc0da707-38ea-4fb8-8986-12addb1db636",
        "colab": {
          "base_uri": "https://localhost:8080/",
          "height": 131
        }
      },
      "execution_count": null,
      "outputs": [
        {
          "output_type": "error",
          "ename": "SyntaxError",
          "evalue": "ignored",
          "traceback": [
            "\u001b[0;36m  File \u001b[0;32m\"<ipython-input-26-56cdf4283a8e>\"\u001b[0;36m, line \u001b[0;32m1\u001b[0m\n\u001b[0;31m    txt = \"We are the so-called \"Vikings\" from the north.\"\u001b[0m\n\u001b[0m                                       ^\u001b[0m\n\u001b[0;31mSyntaxError\u001b[0m\u001b[0;31m:\u001b[0m invalid syntax\n"
          ]
        }
      ]
    },
    {
      "cell_type": "markdown",
      "source": [
        "To fix this problem, use the escape character `\\\"`:"
      ],
      "metadata": {
        "id": "BDOn29Afq4sX"
      }
    },
    {
      "cell_type": "code",
      "source": [
        "# The escape character allows you to use double quotes when you normally would not be allowed:\n",
        "\n",
        "txt = \"We are the so-called \\\"Vikings\\\" from the north.\""
      ],
      "metadata": {
        "id": "U7Z8u1REq2S0"
      },
      "execution_count": null,
      "outputs": []
    },
    {
      "cell_type": "markdown",
      "source": [
        "![image.png](data:image/png;base64,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)"
      ],
      "metadata": {
        "id": "6k2HJxyfrA2H"
      }
    },
    {
      "cell_type": "markdown",
      "source": [
        "# Python Booleans\n",
        "\n",
        "Booleans represent one of two values: `True` or `False`.\n",
        "\n",
        "## Boolean Values\n",
        "In programming you often need to know if an expression is `True` or `False`.\n",
        "\n",
        "You can evaluate any expression in Python, and get one of two answers, `True` or `False`.\n",
        "\n",
        "When you compare two values, the expression is evaluated and Python returns the Boolean answer:\n",
        "\n"
      ],
      "metadata": {
        "id": "ouZygJU4vPFy"
      }
    },
    {
      "cell_type": "code",
      "source": [
        "print(10 > 9)\n",
        "print(10 == 9)\n",
        "print(10 < 9)"
      ],
      "metadata": {
        "colab": {
          "base_uri": "https://localhost:8080/"
        },
        "id": "NGzakZXKzOSC",
        "outputId": "a42f4e4a-b052-49ae-892e-f9149f4bd960"
      },
      "execution_count": null,
      "outputs": [
        {
          "output_type": "stream",
          "name": "stdout",
          "text": [
            "True\n",
            "False\n",
            "False\n"
          ]
        }
      ]
    },
    {
      "cell_type": "markdown",
      "source": [
        "When you run a condition in an if statement, Python returns `True` or `False`:"
      ],
      "metadata": {
        "id": "5A4yF1wrzdQt"
      }
    },
    {
      "cell_type": "code",
      "source": [
        "# Print a message based on whether the condition is True or False:\n",
        "\n",
        "a = 200\n",
        "b = 33\n",
        "\n",
        "if b > a:\n",
        "  print(\"b is greater than a\")\n",
        "else:\n",
        "  print(\"b is not greater than a\")"
      ],
      "metadata": {
        "colab": {
          "base_uri": "https://localhost:8080/"
        },
        "id": "Mbh4OGhnzdEs",
        "outputId": "a537e3e1-33cc-42b0-825c-2581910b54d3"
      },
      "execution_count": null,
      "outputs": [
        {
          "output_type": "stream",
          "name": "stdout",
          "text": [
            "b is not greater than a\n"
          ]
        }
      ]
    },
    {
      "cell_type": "markdown",
      "source": [
        "## Evaluate Values and Variables\n",
        "The `bool()` function allows you to evaluate any value, and give you `True` or `False` in return,"
      ],
      "metadata": {
        "id": "E_zRG5Tpzly7"
      }
    },
    {
      "cell_type": "code",
      "source": [
        "# Evaluate a string and a number:\n",
        "\n",
        "print(bool(\"Hello\"))\n",
        "print(bool(15))"
      ],
      "metadata": {
        "colab": {
          "base_uri": "https://localhost:8080/"
        },
        "id": "0GQCyneCzi78",
        "outputId": "2ec57572-80c3-4fd2-9c72-0f971d36817d"
      },
      "execution_count": null,
      "outputs": [
        {
          "output_type": "stream",
          "name": "stdout",
          "text": [
            "True\n",
            "True\n"
          ]
        }
      ]
    },
    {
      "cell_type": "code",
      "source": [
        "#Evaluate two variables:\n",
        "\n",
        "x = \"Hello\"\n",
        "y = 15\n",
        "\n",
        "print(bool(x))\n",
        "print(bool(y))"
      ],
      "metadata": {
        "colab": {
          "base_uri": "https://localhost:8080/"
        },
        "id": "2zzNWOEqztAl",
        "outputId": "1345c61d-5878-46c4-c32a-9132d9337a1b"
      },
      "execution_count": null,
      "outputs": [
        {
          "output_type": "stream",
          "name": "stdout",
          "text": [
            "True\n",
            "True\n"
          ]
        }
      ]
    },
    {
      "cell_type": "markdown",
      "source": [
        "## Most Values are True\n",
        "Almost any value is evaluated to `True` if it has some sort of content.\n",
        "\n",
        "Any string is `True`, except empty strings.\n",
        "\n",
        "Any number is `True`, except `0`.\n",
        "\n",
        "Any list, tuple, set, and dictionary are `True`, except empty ones."
      ],
      "metadata": {
        "id": "liHMrls9zxpg"
      }
    },
    {
      "cell_type": "code",
      "source": [
        "# The following will return True:\n",
        "\n",
        "bool(\"abc\")\n",
        "bool(123)\n",
        "bool([\"apple\", \"cherry\", \"banana\"])"
      ],
      "metadata": {
        "colab": {
          "base_uri": "https://localhost:8080/"
        },
        "id": "neX7uQEhzvqQ",
        "outputId": "e5185c5a-ac8c-4cf8-a7f0-c21640abe9af"
      },
      "execution_count": null,
      "outputs": [
        {
          "output_type": "execute_result",
          "data": {
            "text/plain": [
              "True"
            ]
          },
          "metadata": {},
          "execution_count": 5
        }
      ]
    },
    {
      "cell_type": "markdown",
      "source": [
        "## Some Values are False\n",
        "In fact, there are not many values that evaluate to `False`, except empty values, such as `()`, `[]`, `{}`, `\"\"`, the number `0`, and the value `None`. And of course the value `False` evaluates to `False`."
      ],
      "metadata": {
        "id": "vY01KBqK06Br"
      }
    },
    {
      "cell_type": "code",
      "source": [
        "# The following will return False:\n",
        "\n",
        "bool(False)\n",
        "bool(None)\n",
        "bool(0)\n",
        "bool(\"\")\n",
        "bool(())\n",
        "bool([])\n",
        "bool({})"
      ],
      "metadata": {
        "colab": {
          "base_uri": "https://localhost:8080/"
        },
        "id": "JcXS3d0s0E4V",
        "outputId": "9f760100-dd31-4913-ab58-1692e87be0be"
      },
      "execution_count": null,
      "outputs": [
        {
          "output_type": "execute_result",
          "data": {
            "text/plain": [
              "False"
            ]
          },
          "metadata": {},
          "execution_count": 6
        }
      ]
    },
    {
      "cell_type": "markdown",
      "source": [
        "One more value, or object in this case, evaluates to `False`, and that is if you have an object that is made from a class with a `__len__` function that returns `0` or `False`:"
      ],
      "metadata": {
        "id": "gsy9ik7_1zey"
      }
    },
    {
      "cell_type": "code",
      "source": [
        "class myclass():\n",
        "  def __len__(self):\n",
        "    return 0\n",
        "\n",
        "myobj = myclass()\n",
        "print(bool(myobj))"
      ],
      "metadata": {
        "colab": {
          "base_uri": "https://localhost:8080/"
        },
        "id": "KerXyzt51MGW",
        "outputId": "c3d32ddb-4a55-4e90-b917-ac51bed39ddd"
      },
      "execution_count": null,
      "outputs": [
        {
          "output_type": "stream",
          "name": "stdout",
          "text": [
            "False\n"
          ]
        }
      ]
    },
    {
      "cell_type": "markdown",
      "source": [
        "## Functions can Return a Boolean\n",
        "You can create functions that returns a Boolean Value:"
      ],
      "metadata": {
        "id": "qr6rTkM42BA7"
      }
    },
    {
      "cell_type": "code",
      "source": [
        "# Print the answer of a function:\n",
        "\n",
        "def myFunction() :\n",
        "  return True\n",
        "\n",
        "print(myFunction())"
      ],
      "metadata": {
        "colab": {
          "base_uri": "https://localhost:8080/"
        },
        "id": "I1Kbs8Hb1-4Y",
        "outputId": "f4fcb8ef-d5cf-4555-ba47-40ceed4e5d2c"
      },
      "execution_count": null,
      "outputs": [
        {
          "output_type": "stream",
          "name": "stdout",
          "text": [
            "True\n"
          ]
        }
      ]
    },
    {
      "cell_type": "markdown",
      "source": [
        "You can execute code based on the Boolean answer of a function:"
      ],
      "metadata": {
        "id": "Oko8VIBy2GnP"
      }
    },
    {
      "cell_type": "code",
      "source": [
        "# Print \"YES!\" if the function returns True, otherwise print \"NO!\":\n",
        "\n",
        "def myFunction() :\n",
        "  return True\n",
        "\n",
        "if myFunction():\n",
        "  print(\"YES!\")\n",
        "else:\n",
        "  print(\"NO!\")"
      ],
      "metadata": {
        "colab": {
          "base_uri": "https://localhost:8080/"
        },
        "id": "XXol7esk2E8w",
        "outputId": "89ee679d-4a3d-4df1-82b0-fe3a0f4ef396"
      },
      "execution_count": null,
      "outputs": [
        {
          "output_type": "stream",
          "name": "stdout",
          "text": [
            "YES!\n"
          ]
        }
      ]
    },
    {
      "cell_type": "markdown",
      "source": [
        "Python also has many built-in functions that return a boolean value, like the `isinstance()` function, which can be used to determine if an object is of a certain data type:"
      ],
      "metadata": {
        "id": "2XRAFxo82M-P"
      }
    },
    {
      "cell_type": "code",
      "source": [
        "# Check if an object is an integer or not:\n",
        "\n",
        "x = 200\n",
        "print(isinstance(x, int))"
      ],
      "metadata": {
        "colab": {
          "base_uri": "https://localhost:8080/"
        },
        "id": "ODeK6Np02KUV",
        "outputId": "d40170d7-baf5-4229-f4f2-0e7a3a73b63a"
      },
      "execution_count": null,
      "outputs": [
        {
          "output_type": "stream",
          "name": "stdout",
          "text": [
            "True\n"
          ]
        }
      ]
    },
    {
      "cell_type": "markdown",
      "source": [
        "# Python Operators\n",
        "Operators are used to perform operations on variables and values.\n",
        "\n",
        "In the example below, we use the `+` operator to add together two values:"
      ],
      "metadata": {
        "id": "ZORjT3H425E0"
      }
    },
    {
      "cell_type": "code",
      "source": [
        "print(10 + 5)"
      ],
      "metadata": {
        "colab": {
          "base_uri": "https://localhost:8080/"
        },
        "id": "QSfWPUcn2Q6D",
        "outputId": "28233199-fbac-4e16-dca8-4d01f8df424f"
      },
      "execution_count": null,
      "outputs": [
        {
          "output_type": "stream",
          "name": "stdout",
          "text": [
            "15\n"
          ]
        }
      ]
    },
    {
      "cell_type": "markdown",
      "source": [
        "Python divides the operators in the following groups:\n",
        "\n",
        "* Arithmetic operators\n",
        "* Assignment operators\n",
        "* Comparison operators\n",
        "* Logical operators\n",
        "* Identity operators\n",
        "* Membership operators\n",
        "* Bitwise operators\n"
      ],
      "metadata": {
        "id": "XUMEc5Gj3LcG"
      }
    },
    {
      "cell_type": "markdown",
      "source": [
        "## Python Arithmetic Operators\n",
        "Arithmetic operators are used with numeric values to perform common mathematical operations:"
      ],
      "metadata": {
        "id": "jWJrmrxJ3YfI"
      }
    },
    {
      "cell_type": "markdown",
      "source": [
        "![image.png](data:image/png;base64,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)"
      ],
      "metadata": {
        "id": "PG93AG953W5H"
      }
    },
    {
      "cell_type": "markdown",
      "source": [
        "## Python Assignment Operators\n",
        "Assignment operators are used to assign values to variables:\n",
        "\n",
        "![image.png](data:image/png;base64,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)"
      ],
      "metadata": {
        "id": "4OHjQXuR3fSQ"
      }
    },
    {
      "cell_type": "markdown",
      "source": [
        "## Python Comparison Operators\n",
        "Comparison operators are used to compare two values:\n",
        "\n",
        "![image.png](data:image/png;base64,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)"
      ],
      "metadata": {
        "id": "LGrhYBrv3nYv"
      }
    },
    {
      "cell_type": "markdown",
      "source": [
        "## Python Logical Operators\n",
        "Logical operators are used to combine conditional statements:\n",
        "![image.png](data:image/png;base64,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)"
      ],
      "metadata": {
        "id": "Spg2h4y63xGp"
      }
    },
    {
      "cell_type": "markdown",
      "source": [
        "## Python Identity Operators\n",
        "Identity operators are used to compare the objects, not if they are equal, but if they are actually the same object, with the same memory location:\n",
        "\n",
        "\n",
        "![image.png](data:image/png;base64,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)"
      ],
      "metadata": {
        "id": "YYYDJzLW34AK"
      }
    },
    {
      "cell_type": "markdown",
      "source": [
        "## Python Membership Operators\n",
        "Membership operators are used to test if a sequence is presented in an object:\n",
        "\n",
        "![image.png](data:image/png;base64,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)"
      ],
      "metadata": {
        "id": "gPkHnP_k4ATg"
      }
    },
    {
      "cell_type": "markdown",
      "source": [
        "## Python Bitwise Operators\n",
        "Bitwise operators are used to compare (binary) numbers:\n",
        "\n",
        "![image.png](data:image/png;base64,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)"
      ],
      "metadata": {
        "id": "9tdX0LH44HMf"
      }
    },
    {
      "cell_type": "markdown",
      "source": [
        "# Python Lists\n",
        "\n",
        "      mylist = [\"apple\", \"banana\", \"cherry\"]\n",
        "\n",
        "## List\n",
        "Lists are used to store multiple items in a single variable.\n",
        "\n",
        "Lists are one of 4 built-in data types in Python used to store collections of data, the other 3 are Tuple, Set, and Dictionary, all with different qualities and usage.\n",
        "\n",
        "Lists are created using square brackets:"
      ],
      "metadata": {
        "id": "SltbckEf4iv-"
      }
    },
    {
      "cell_type": "code",
      "source": [
        "# Create a List:\n",
        "\n",
        "thislist = [\"apple\", \"banana\", \"cherry\"]\n",
        "print(thislist)"
      ],
      "metadata": {
        "colab": {
          "base_uri": "https://localhost:8080/"
        },
        "id": "dfdzSDf-3JWV",
        "outputId": "5c2d90be-eef8-44c8-94c2-7130af2b6e34"
      },
      "execution_count": null,
      "outputs": [
        {
          "output_type": "stream",
          "name": "stdout",
          "text": [
            "['apple', 'banana', 'cherry']\n"
          ]
        }
      ]
    },
    {
      "cell_type": "markdown",
      "source": [
        "## List Items\n",
        "List items are ordered, changeable, and allow duplicate values.\n",
        "\n",
        "List items are indexed, the first item has index `[0]`, the second item has index `[1]` etc.\n",
        "\n",
        "## Ordered\n",
        "When we say that lists are ordered, it means that the items have a defined order, and that order will not change.\n",
        "\n",
        "If you add new items to a list, the new items will be placed at the end of the list.\n",
        "\n",
        "      Note: There are some list methods that will change the order, but in general: the order of the items will not change.\n",
        "\n",
        "\n",
        "## Changeable\n",
        "The list is changeable, meaning that we can change, add, and remove items in a list after it has been created.\n",
        "\n",
        "## Allow Duplicates\n",
        "Since lists are indexed, lists can have items with the same value:"
      ],
      "metadata": {
        "id": "Be3GwlBn42mX"
      }
    },
    {
      "cell_type": "code",
      "source": [
        "#Lists allow duplicate values:\n",
        "\n",
        "thislist = [\"apple\", \"banana\", \"cherry\", \"apple\", \"cherry\"]\n",
        "print(thislist)"
      ],
      "metadata": {
        "id": "X7Rh8KPH4xrb",
        "colab": {
          "base_uri": "https://localhost:8080/"
        },
        "outputId": "0a206e31-4072-4d82-9ae1-f9d6cc4aa009"
      },
      "execution_count": null,
      "outputs": [
        {
          "output_type": "stream",
          "name": "stdout",
          "text": [
            "['apple', 'banana', 'cherry', 'apple', 'cherry']\n"
          ]
        }
      ]
    },
    {
      "cell_type": "markdown",
      "source": [
        "## List Length\n",
        "To determine how many items a list has, use the `len()` function:"
      ],
      "metadata": {
        "id": "93e1fIt5nw7u"
      }
    },
    {
      "cell_type": "code",
      "source": [
        "# Print the number of items in the list:\n",
        "\n",
        "thislist = [\"apple\", \"banana\", \"cherry\"]\n",
        "print(len(thislist))"
      ],
      "metadata": {
        "colab": {
          "base_uri": "https://localhost:8080/"
        },
        "id": "bv6CIa44nuNu",
        "outputId": "586e2770-c0b7-4850-9b13-ef7ae31ec228"
      },
      "execution_count": null,
      "outputs": [
        {
          "output_type": "stream",
          "name": "stdout",
          "text": [
            "3\n"
          ]
        }
      ]
    },
    {
      "cell_type": "markdown",
      "source": [
        "## List Items - Data Types\n",
        "List items can be of any data type:"
      ],
      "metadata": {
        "id": "hEiH1S1On_iJ"
      }
    },
    {
      "cell_type": "code",
      "source": [
        "# String, int and boolean data types:\n",
        "\n",
        "list1 = [\"apple\", \"banana\", \"cherry\"]\n",
        "list2 = [1, 5, 7, 9, 3]\n",
        "list3 = [True, False, False]"
      ],
      "metadata": {
        "id": "npvYt55fn8-p"
      },
      "execution_count": null,
      "outputs": []
    },
    {
      "cell_type": "markdown",
      "source": [
        "A list can contain different data types:"
      ],
      "metadata": {
        "id": "PHTdKJsCoF4m"
      }
    },
    {
      "cell_type": "code",
      "source": [
        "#A list with strings, integers and boolean values:\n",
        "\n",
        "list1 = [\"abc\", 34, True, 40, \"male\"]"
      ],
      "metadata": {
        "id": "SvbrSSE6oDQt"
      },
      "execution_count": null,
      "outputs": []
    },
    {
      "cell_type": "markdown",
      "source": [
        "## `type()`\n",
        "From Python's perspective, lists are defined as objects with the data type 'list':\n",
        "\n",
        "        <class 'list'>"
      ],
      "metadata": {
        "id": "UbU1EI6GoKKt"
      }
    },
    {
      "cell_type": "code",
      "source": [
        "# What is the data type of a list?\n",
        "\n",
        "mylist = [\"apple\", \"banana\", \"cherry\"]\n",
        "print(type(mylist))"
      ],
      "metadata": {
        "colab": {
          "base_uri": "https://localhost:8080/"
        },
        "id": "qI30yVkioIa2",
        "outputId": "c6d745e3-634c-4c07-c359-503383c20f3a"
      },
      "execution_count": null,
      "outputs": [
        {
          "output_type": "stream",
          "name": "stdout",
          "text": [
            "<class 'list'>\n"
          ]
        }
      ]
    },
    {
      "cell_type": "markdown",
      "source": [
        "## The `list()` Constructor\n",
        "It is also possible to use the `list()` constructor when creating a new list."
      ],
      "metadata": {
        "id": "jn3VBehhobqx"
      }
    },
    {
      "cell_type": "code",
      "source": [
        "# Using the list() constructor to make a List:\n",
        "\n",
        "thislist = list((\"apple\", \"banana\", \"cherry\")) # note the double round-brackets\n",
        "print(thislist)"
      ],
      "metadata": {
        "colab": {
          "base_uri": "https://localhost:8080/"
        },
        "id": "398BP83roZUR",
        "outputId": "6ce4352c-8feb-49e4-ff1a-c3a6e2db0274"
      },
      "execution_count": null,
      "outputs": [
        {
          "output_type": "stream",
          "name": "stdout",
          "text": [
            "['apple', 'banana', 'cherry']\n"
          ]
        }
      ]
    },
    {
      "cell_type": "markdown",
      "source": [
        "## Python Collections (Arrays)\n",
        "There are four collection data types in the Python programming language:\n",
        "\n",
        "* List is a collection which is ordered and changeable. Allows duplicate members.\n",
        "* Tuple is a collection which is ordered and unchangeable. Allows duplicate members.\n",
        "* Set is a collection which is unordered, unchangeable*, and unindexed. No duplicate members.\n",
        "* Dictionary is a collection which is ordered** and changeable. No duplicate members."
      ],
      "metadata": {
        "id": "gj0KUFx3okG1"
      }
    },
    {
      "cell_type": "markdown",
      "source": [
        "# Python - Access List Items\n",
        "\n",
        "## Access Items\n",
        "List items are indexed and you can access them by referring to the index number:\n",
        "\n"
      ],
      "metadata": {
        "id": "dn_xPPB9o0UT"
      }
    },
    {
      "cell_type": "code",
      "source": [
        "# Print the second item of the list:\n",
        "\n",
        "thislist = [\"apple\", \"banana\", \"cherry\"]\n",
        "print(thislist[1])"
      ],
      "metadata": {
        "colab": {
          "base_uri": "https://localhost:8080/"
        },
        "id": "RVEbni6RohIc",
        "outputId": "14fc0fa7-c1e2-4bca-ee69-5a5ae6ea1b39"
      },
      "execution_count": null,
      "outputs": [
        {
          "output_type": "stream",
          "name": "stdout",
          "text": [
            "banana\n"
          ]
        }
      ]
    },
    {
      "cell_type": "markdown",
      "source": [
        "        Note: The first item has index 0.\n",
        "\n",
        "## Negative Indexing\n",
        "Negative indexing means start from the end\n",
        "\n",
        "`-1` refers to the last item, `-2` refers to the second last item etc."
      ],
      "metadata": {
        "id": "7Xdy-IAyo7TF"
      }
    },
    {
      "cell_type": "code",
      "source": [
        "# Print the last item of the list:\n",
        "\n",
        "thislist = [\"apple\", \"banana\", \"cherry\"]\n",
        "print(thislist[-1])"
      ],
      "metadata": {
        "colab": {
          "base_uri": "https://localhost:8080/"
        },
        "id": "DVo_xNgpo5J0",
        "outputId": "e27fe234-02a8-4e9e-aef6-5c19eab1636b"
      },
      "execution_count": null,
      "outputs": [
        {
          "output_type": "stream",
          "name": "stdout",
          "text": [
            "cherry\n"
          ]
        }
      ]
    },
    {
      "cell_type": "markdown",
      "source": [
        "## Range of Indexes\n",
        "You can specify a range of indexes by specifying where to start and where to end the range.\n",
        "\n",
        "When specifying a range, the return value will be a new list with the specified items."
      ],
      "metadata": {
        "id": "aMpVoQxepF9-"
      }
    },
    {
      "cell_type": "code",
      "source": [
        "#Return the third, fourth, and fifth item:\n",
        "\n",
        "thislist = [\"apple\", \"banana\", \"cherry\", \"orange\", \"kiwi\", \"melon\", \"mango\"]\n",
        "print(thislist[2:5])"
      ],
      "metadata": {
        "colab": {
          "base_uri": "https://localhost:8080/"
        },
        "id": "ZKuDeHsQpDg_",
        "outputId": "af56e927-78a6-4163-ba10-c3955d77f85d"
      },
      "execution_count": null,
      "outputs": [
        {
          "output_type": "stream",
          "name": "stdout",
          "text": [
            "['cherry', 'orange', 'kiwi']\n"
          ]
        }
      ]
    },
    {
      "cell_type": "markdown",
      "source": [
        "      Note: The search will start at index 2 (included) and end at index 5 (not included).\n",
        "\n",
        "      Remember that the first item has index 0.\n",
        "\n",
        "By leaving out the start value, the range will start at the first item:\n",
        "\n"
      ],
      "metadata": {
        "id": "cs5Gjzoopdob"
      }
    },
    {
      "cell_type": "code",
      "source": [
        "# This example returns the items from the beginning to, but NOT including, \"kiwi\":\n",
        "\n",
        "thislist = [\"apple\", \"banana\", \"cherry\", \"orange\", \"kiwi\", \"melon\", \"mango\"]\n",
        "print(thislist[:4])"
      ],
      "metadata": {
        "colab": {
          "base_uri": "https://localhost:8080/"
        },
        "id": "HVXUKrXIpbE9",
        "outputId": "2612b783-0e7f-4802-97e3-181f52cf84a0"
      },
      "execution_count": null,
      "outputs": [
        {
          "output_type": "stream",
          "name": "stdout",
          "text": [
            "['apple', 'banana', 'cherry', 'orange']\n"
          ]
        }
      ]
    },
    {
      "cell_type": "markdown",
      "source": [
        "By leaving out the end value, the range will go on to the end of the list:"
      ],
      "metadata": {
        "id": "0DhjK5pypnql"
      }
    },
    {
      "cell_type": "code",
      "source": [
        "# This example returns the items from \"cherry\" to the end:\n",
        "\n",
        "thislist = [\"apple\", \"banana\", \"cherry\", \"orange\", \"kiwi\", \"melon\", \"mango\"]\n",
        "print(thislist[2:])"
      ],
      "metadata": {
        "colab": {
          "base_uri": "https://localhost:8080/"
        },
        "id": "qz2Sp_yIpl1j",
        "outputId": "2db104ed-d013-4a50-b4bf-859c149aef26"
      },
      "execution_count": null,
      "outputs": [
        {
          "output_type": "stream",
          "name": "stdout",
          "text": [
            "['cherry', 'orange', 'kiwi', 'melon', 'mango']\n"
          ]
        }
      ]
    },
    {
      "cell_type": "markdown",
      "source": [
        "## Range of Negative Indexes\n",
        "Specify negative indexes if you want to start the search from the end of the list:"
      ],
      "metadata": {
        "id": "ViPo6iJqpseA"
      }
    },
    {
      "cell_type": "code",
      "source": [
        "#This example returns the items from \"orange\" (-4) to, but NOT including \"mango\" (-1):\n",
        "\n",
        "thislist = [\"apple\", \"banana\", \"cherry\", \"orange\", \"kiwi\", \"melon\", \"mango\"]\n",
        "print(thislist[-4:-1])"
      ],
      "metadata": {
        "colab": {
          "base_uri": "https://localhost:8080/"
        },
        "id": "tLyR9lgNpqos",
        "outputId": "1673777c-cd8c-45d6-b52c-864ce658a3fd"
      },
      "execution_count": null,
      "outputs": [
        {
          "output_type": "stream",
          "name": "stdout",
          "text": [
            "['orange', 'kiwi', 'melon']\n"
          ]
        }
      ]
    },
    {
      "cell_type": "markdown",
      "source": [
        "## Check if Item Exists\n",
        "To determine if a specified item is present in a list use the `in` keyword:"
      ],
      "metadata": {
        "id": "TPAgEkafpyAb"
      }
    },
    {
      "cell_type": "code",
      "source": [
        "# Check if \"apple\" is present in the list:\n",
        "\n",
        "thislist = [\"apple\", \"banana\", \"cherry\"]\n",
        "if \"apple\" in thislist:\n",
        "  print(\"Yes, 'apple' is in the fruits list\")"
      ],
      "metadata": {
        "colab": {
          "base_uri": "https://localhost:8080/"
        },
        "id": "khCnBFc0pvu_",
        "outputId": "d40cec6e-b949-48f2-b90c-ea9b8ea9297f"
      },
      "execution_count": null,
      "outputs": [
        {
          "output_type": "stream",
          "name": "stdout",
          "text": [
            "Yes, 'apple' is in the fruits list\n"
          ]
        }
      ]
    },
    {
      "cell_type": "markdown",
      "source": [
        "# Python - Change List Items\n",
        "## Change Item Value\n",
        "To change the value of a specific item, refer to the index number:"
      ],
      "metadata": {
        "id": "2EPMg9UbrIVK"
      }
    },
    {
      "cell_type": "code",
      "source": [
        "# Change the second item:\n",
        "\n",
        "thislist = [\"apple\", \"banana\", \"cherry\"]\n",
        "thislist[1] = \"blackcurrant\"\n",
        "print(thislist)"
      ],
      "metadata": {
        "colab": {
          "base_uri": "https://localhost:8080/"
        },
        "id": "s0-qC7Qmp2tZ",
        "outputId": "3b4ef7bd-f485-42cd-a62b-68bcc29d277f"
      },
      "execution_count": null,
      "outputs": [
        {
          "output_type": "stream",
          "name": "stdout",
          "text": [
            "['apple', 'blackcurrant', 'cherry']\n"
          ]
        }
      ]
    },
    {
      "cell_type": "markdown",
      "source": [
        "## Change a Range of Item Values\n",
        "To change the value of items within a specific range, define a list with the new values, and refer to the range of index numbers where you want to insert the new values:"
      ],
      "metadata": {
        "id": "_-sTmPxgrZIf"
      }
    },
    {
      "cell_type": "code",
      "source": [
        "# Change the values \"banana\" and \"cherry\" with the values \"blackcurrant\" and \"watermelon\":\n",
        "\n",
        "thislist = [\"apple\", \"banana\", \"cherry\", \"orange\", \"kiwi\", \"mango\"]\n",
        "thislist[1:3] = [\"blackcurrant\", \"watermelon\"]\n",
        "print(thislist)"
      ],
      "metadata": {
        "colab": {
          "base_uri": "https://localhost:8080/"
        },
        "id": "pD3htmRLrXPn",
        "outputId": "f75e6f8a-61d9-4628-c00b-e3f156c34290"
      },
      "execution_count": null,
      "outputs": [
        {
          "output_type": "stream",
          "name": "stdout",
          "text": [
            "['apple', 'blackcurrant', 'watermelon', 'orange', 'kiwi', 'mango']\n"
          ]
        }
      ]
    },
    {
      "cell_type": "markdown",
      "source": [
        "If you insert more items than you replace, the new items will be inserted where you specified, and the remaining items will move accordingly:\n",
        "        "
      ],
      "metadata": {
        "id": "B8qXnSRorebE"
      }
    },
    {
      "cell_type": "code",
      "source": [
        "# Change the second value by replacing it with two new values:\n",
        "\n",
        "thislist = [\"apple\", \"banana\", \"cherry\"]\n",
        "thislist[1:2] = [\"blackcurrant\", \"watermelon\"]\n",
        "print(thislist)"
      ],
      "metadata": {
        "colab": {
          "base_uri": "https://localhost:8080/"
        },
        "id": "1QiMDS5CrczS",
        "outputId": "e48f61e5-49ed-4c7b-8837-eb8ca35cf2b1"
      },
      "execution_count": null,
      "outputs": [
        {
          "output_type": "stream",
          "name": "stdout",
          "text": [
            "['apple', 'blackcurrant', 'watermelon', 'cherry']\n"
          ]
        }
      ]
    },
    {
      "cell_type": "markdown",
      "source": [
        "        Note: The length of the list will change when the number of items inserted does not match the number of items replaced.\n",
        "\n",
        "\n",
        "If you insert less items than you replace, the new items will be inserted where you specified, and the remaining items will move accordingly:\n",
        "\n"
      ],
      "metadata": {
        "id": "sQhxOGunrp2S"
      }
    },
    {
      "cell_type": "code",
      "source": [
        "# Change the second and third value by replacing it with one value:\n",
        "\n",
        "thislist = [\"apple\", \"banana\", \"cherry\"]\n",
        "thislist[1:3] = [\"watermelon\"]\n",
        "print(thislist)"
      ],
      "metadata": {
        "colab": {
          "base_uri": "https://localhost:8080/"
        },
        "id": "MnDejRG5rh9U",
        "outputId": "deeee643-9389-4150-8053-d482183afbad"
      },
      "execution_count": null,
      "outputs": [
        {
          "output_type": "stream",
          "name": "stdout",
          "text": [
            "['apple', 'watermelon']\n"
          ]
        }
      ]
    },
    {
      "cell_type": "markdown",
      "source": [
        "## Insert Items\n",
        "To insert a new list item, without replacing any of the existing values, we can use the `insert()` method.\n",
        "\n",
        "The `insert()` method inserts an item at the specified index:"
      ],
      "metadata": {
        "id": "UEdDNuAHr6d2"
      }
    },
    {
      "cell_type": "code",
      "source": [
        "# Insert \"watermelon\" as the third item:\n",
        "\n",
        "thislist = [\"apple\", \"banana\", \"cherry\"]\n",
        "thislist.insert(2, \"watermelon\")\n",
        "print(thislist)"
      ],
      "metadata": {
        "colab": {
          "base_uri": "https://localhost:8080/"
        },
        "id": "kbzS4PrFru5t",
        "outputId": "81b9bc3c-f3c2-4abf-c03c-374105163e28"
      },
      "execution_count": null,
      "outputs": [
        {
          "output_type": "stream",
          "name": "stdout",
          "text": [
            "['apple', 'banana', 'watermelon', 'cherry']\n"
          ]
        }
      ]
    },
    {
      "cell_type": "markdown",
      "source": [
        "# Python - Add List Items\n",
        "## Append Items\n",
        "To add an item to the end of the list, use the `append()` method:\n"
      ],
      "metadata": {
        "id": "t8H1LTs3sLwJ"
      }
    },
    {
      "cell_type": "code",
      "source": [
        "# Using the append() method to append an item:\n",
        "\n",
        "thislist = [\"apple\", \"banana\", \"cherry\"]\n",
        "thislist.append(\"orange\")\n",
        "print(thislist)"
      ],
      "metadata": {
        "colab": {
          "base_uri": "https://localhost:8080/"
        },
        "id": "xc6pz_6SsD3Z",
        "outputId": "b0e0a508-9270-4a4f-ebf7-3d9017a53660"
      },
      "execution_count": null,
      "outputs": [
        {
          "output_type": "stream",
          "name": "stdout",
          "text": [
            "['apple', 'banana', 'cherry', 'orange']\n"
          ]
        }
      ]
    },
    {
      "cell_type": "markdown",
      "source": [
        "## Insert Items\n",
        "To insert a list item at a specified index, use the `insert()` method.\n",
        "\n",
        "The `insert()` method inserts an item at the specified index:"
      ],
      "metadata": {
        "id": "ItB26WVSsgX5"
      }
    },
    {
      "cell_type": "code",
      "source": [
        "# Insert an item as the second position:\n",
        "\n",
        "thislist = [\"apple\", \"banana\", \"cherry\"]\n",
        "thislist.insert(1, \"orange\")\n",
        "print(thislist)"
      ],
      "metadata": {
        "colab": {
          "base_uri": "https://localhost:8080/"
        },
        "id": "dLIXMbS4sVm5",
        "outputId": "fed07426-0c4a-4263-89f0-4d2504c5462e"
      },
      "execution_count": null,
      "outputs": [
        {
          "output_type": "stream",
          "name": "stdout",
          "text": [
            "['apple', 'orange', 'banana', 'cherry']\n"
          ]
        }
      ]
    },
    {
      "cell_type": "markdown",
      "source": [
        "        Note: As a result of the examples above, the lists will now contain 4 items.\n",
        "\n",
        "## Extend List\n",
        "To append elements from another list to the current list, use the `extend()` method."
      ],
      "metadata": {
        "id": "ZisNUY-XsuFm"
      }
    },
    {
      "cell_type": "code",
      "source": [
        "# Add the elements of tropical to thislist:\n",
        "\n",
        "thislist = [\"apple\", \"banana\", \"cherry\"]\n",
        "tropical = [\"mango\", \"pineapple\", \"papaya\"]\n",
        "thislist.extend(tropical)\n",
        "print(thislist)\n",
        "\n",
        "#The elements will be added to the end of the list."
      ],
      "metadata": {
        "colab": {
          "base_uri": "https://localhost:8080/"
        },
        "id": "B31Y4tX7smh0",
        "outputId": "20d6c2cf-b336-4974-dfa7-76b755069f55"
      },
      "execution_count": null,
      "outputs": [
        {
          "output_type": "stream",
          "name": "stdout",
          "text": [
            "['apple', 'banana', 'cherry', 'mango', 'pineapple', 'papaya']\n"
          ]
        }
      ]
    },
    {
      "cell_type": "markdown",
      "source": [
        "## Add Any Iterable\n",
        "The `extend()` method does not have to append lists, you can add any iterable object (tuples, sets, dictionaries etc.)."
      ],
      "metadata": {
        "id": "cCjklPOis5dD"
      }
    },
    {
      "cell_type": "code",
      "source": [
        "# Add elements of a tuple to a list:\n",
        "\n",
        "thislist = [\"apple\", \"banana\", \"cherry\"]\n",
        "thistuple = (\"kiwi\", \"orange\")\n",
        "thislist.extend(thistuple)\n",
        "print(thislist)"
      ],
      "metadata": {
        "colab": {
          "base_uri": "https://localhost:8080/"
        },
        "id": "TyCaOXGUs1EZ",
        "outputId": "62680006-877c-4f7e-8813-febab5ceb1fe"
      },
      "execution_count": null,
      "outputs": [
        {
          "output_type": "stream",
          "name": "stdout",
          "text": [
            "['apple', 'banana', 'cherry', 'kiwi', 'orange']\n"
          ]
        }
      ]
    },
    {
      "cell_type": "markdown",
      "source": [
        "# Python - Remove List Items\n",
        "## Remove Specified Item\n",
        "The `remove()` method removes the specified item."
      ],
      "metadata": {
        "id": "yrFlg2QgtWt6"
      }
    },
    {
      "cell_type": "code",
      "source": [
        "# Remove \"banana\":\n",
        "\n",
        "thislist = [\"apple\", \"banana\", \"cherry\"]\n",
        "thislist.remove(\"banana\")\n",
        "print(thislist)"
      ],
      "metadata": {
        "colab": {
          "base_uri": "https://localhost:8080/"
        },
        "id": "0vO26a3DtL_U",
        "outputId": "691a122f-68d7-4efd-b4d2-e7fe392fa159"
      },
      "execution_count": null,
      "outputs": [
        {
          "output_type": "stream",
          "name": "stdout",
          "text": [
            "['apple', 'cherry']\n"
          ]
        }
      ]
    },
    {
      "cell_type": "markdown",
      "source": [
        "##Remove Specified Index\n",
        "The `pop()` method removes the specified index."
      ],
      "metadata": {
        "id": "JWFXgFy8thLk"
      }
    },
    {
      "cell_type": "code",
      "source": [
        "# Remove the second item:\n",
        "\n",
        "thislist = [\"apple\", \"banana\", \"cherry\"]\n",
        "thislist.pop(1)\n",
        "print(thislist)"
      ],
      "metadata": {
        "colab": {
          "base_uri": "https://localhost:8080/"
        },
        "id": "cSfhJAqqteuN",
        "outputId": "2c3adc4d-56e4-4f1d-f0a1-ad5d11c64a80"
      },
      "execution_count": null,
      "outputs": [
        {
          "output_type": "stream",
          "name": "stdout",
          "text": [
            "['apple', 'cherry']\n"
          ]
        }
      ]
    },
    {
      "cell_type": "markdown",
      "source": [
        "If you do not specify the index, the `pop()` method removes the last item."
      ],
      "metadata": {
        "id": "KA3eptKItm8A"
      }
    },
    {
      "cell_type": "code",
      "source": [
        "# Remove the last item:\n",
        "\n",
        "thislist = [\"apple\", \"banana\", \"cherry\"]\n",
        "thislist.pop()\n",
        "print(thislist)"
      ],
      "metadata": {
        "colab": {
          "base_uri": "https://localhost:8080/"
        },
        "id": "cT-vVM9Ltlbm",
        "outputId": "5d108f59-0310-476c-aeb1-c5b798597c3a"
      },
      "execution_count": null,
      "outputs": [
        {
          "output_type": "stream",
          "name": "stdout",
          "text": [
            "['apple', 'banana']\n"
          ]
        }
      ]
    },
    {
      "cell_type": "markdown",
      "source": [
        "The `del` keyword also removes the specified index:"
      ],
      "metadata": {
        "id": "ut1ztXmWtxcy"
      }
    },
    {
      "cell_type": "code",
      "source": [
        "# Remove the first item:\n",
        "\n",
        "thislist = [\"apple\", \"banana\", \"cherry\"]\n",
        "del thislist[0]\n",
        "print(thislist)"
      ],
      "metadata": {
        "colab": {
          "base_uri": "https://localhost:8080/"
        },
        "id": "k5O_Y4bdtql0",
        "outputId": "6b676fb9-debc-41b5-8ede-071adf07db0f"
      },
      "execution_count": null,
      "outputs": [
        {
          "output_type": "stream",
          "name": "stdout",
          "text": [
            "['banana', 'cherry']\n"
          ]
        }
      ]
    },
    {
      "cell_type": "markdown",
      "source": [
        "The `del` keyword can also delete the list completely."
      ],
      "metadata": {
        "id": "QZ2yTm3Kt8Ps"
      }
    },
    {
      "cell_type": "code",
      "source": [
        "# Delete the entire list:\n",
        "\n",
        "thislist = [\"apple\", \"banana\", \"cherry\"]\n",
        "del thislist"
      ],
      "metadata": {
        "id": "WTpEpxMbt1H9"
      },
      "execution_count": null,
      "outputs": []
    },
    {
      "cell_type": "markdown",
      "source": [
        "## Clear the List\n",
        "The `clear()` method empties the list.\n",
        "\n",
        "The list still remains, but it has no content."
      ],
      "metadata": {
        "id": "dKdLzMbFuLpb"
      }
    },
    {
      "cell_type": "code",
      "source": [
        "# Clear the list content:\n",
        "\n",
        "thislist = [\"apple\", \"banana\", \"cherry\"]\n",
        "thislist.clear()\n",
        "print(thislist)"
      ],
      "metadata": {
        "colab": {
          "base_uri": "https://localhost:8080/"
        },
        "id": "sBLdLtCit_rn",
        "outputId": "e59b2da6-762c-40f6-a18b-160fb50d37e6"
      },
      "execution_count": null,
      "outputs": [
        {
          "output_type": "stream",
          "name": "stdout",
          "text": [
            "[]\n"
          ]
        }
      ]
    },
    {
      "cell_type": "markdown",
      "source": [
        "# Python - Loop Lists\n",
        "## Loop Through a List\n",
        "You can loop through the list items by using a `for` loop:"
      ],
      "metadata": {
        "id": "IXtHwmI3ultg"
      }
    },
    {
      "cell_type": "code",
      "source": [
        "#Print all items in the list, one by one:\n",
        "\n",
        "thislist = [\"apple\", \"banana\", \"cherry\"]\n",
        "for x in thislist:\n",
        "  print(x)"
      ],
      "metadata": {
        "colab": {
          "base_uri": "https://localhost:8080/"
        },
        "id": "qYuCCu9QuTo8",
        "outputId": "d1fff7a1-c035-42f2-8884-d9737ed29e88"
      },
      "execution_count": null,
      "outputs": [
        {
          "output_type": "stream",
          "name": "stdout",
          "text": [
            "apple\n",
            "banana\n",
            "cherry\n"
          ]
        }
      ]
    },
    {
      "cell_type": "markdown",
      "source": [
        "# Loop Through the Index Numbers\n",
        "You can also loop through the list items by referring to their index number.\n",
        "\n",
        "Use the `range()` and `len()` functions to create a suitable iterable."
      ],
      "metadata": {
        "id": "-65ppO6gu7p8"
      }
    },
    {
      "cell_type": "code",
      "source": [
        "# Print all items by referring to their index number:\n",
        "\n",
        "thislist = [\"apple\", \"banana\", \"cherry\"]\n",
        "for i in range(len(thislist)):\n",
        "  print(thislist[i])"
      ],
      "metadata": {
        "colab": {
          "base_uri": "https://localhost:8080/"
        },
        "id": "_4d4fIqJusFl",
        "outputId": "c6c913b9-ddcf-45bb-f8c7-60e05eff79ae"
      },
      "execution_count": null,
      "outputs": [
        {
          "output_type": "stream",
          "name": "stdout",
          "text": [
            "apple\n",
            "banana\n",
            "cherry\n"
          ]
        }
      ]
    },
    {
      "cell_type": "markdown",
      "source": [
        "The iterable created in the example above is `[0, 1, 2]`.\n",
        "\n",
        "## Using a While Loop\n",
        "You can loop through the list items by using a `while` loop.\n",
        "\n",
        "Use the `len()` function to determine the length of the list, then start at 0 and loop your way through the list items by referring to their indexes.\n",
        "\n",
        "Remember to increase the index by 1 after each iteration."
      ],
      "metadata": {
        "id": "szXRO1gRvC_D"
      }
    },
    {
      "cell_type": "code",
      "source": [
        "# Print all items, using a while loop to go through all the index numbers\n",
        "\n",
        "thislist = [\"apple\", \"banana\", \"cherry\"]\n",
        "i = 0\n",
        "while i < len(thislist):\n",
        "  print(thislist[i])\n",
        "  i = i + 1"
      ],
      "metadata": {
        "colab": {
          "base_uri": "https://localhost:8080/"
        },
        "id": "oAK5ZI7AvBFw",
        "outputId": "da8a86b3-74e6-4cba-fd7f-532989d526ba"
      },
      "execution_count": null,
      "outputs": [
        {
          "output_type": "stream",
          "name": "stdout",
          "text": [
            "apple\n",
            "banana\n",
            "cherry\n"
          ]
        }
      ]
    },
    {
      "cell_type": "markdown",
      "source": [
        "## Looping Using List Comprehension\n",
        "List Comprehension offers the shortest syntax for looping through lists:"
      ],
      "metadata": {
        "id": "b71GUC-_vQrc"
      }
    },
    {
      "cell_type": "code",
      "source": [
        "# A short hand for loop that will print all items in a list:\n",
        "\n",
        "thislist = [\"apple\", \"banana\", \"cherry\"]\n",
        "[print(x) for x in thislist]"
      ],
      "metadata": {
        "colab": {
          "base_uri": "https://localhost:8080/"
        },
        "id": "fCRoQuTWvOUG",
        "outputId": "ac0ffba3-f6ba-4bed-b03b-2874e84cdb4f"
      },
      "execution_count": null,
      "outputs": [
        {
          "output_type": "stream",
          "name": "stdout",
          "text": [
            "apple\n",
            "banana\n",
            "cherry\n"
          ]
        },
        {
          "output_type": "execute_result",
          "data": {
            "text/plain": [
              "[None, None, None]"
            ]
          },
          "metadata": {},
          "execution_count": 34
        }
      ]
    },
    {
      "cell_type": "markdown",
      "source": [
        "# Python - List Comprehension\n",
        "## List Comprehension\n",
        "List comprehension offers a shorter syntax when you want to create a new list based on the values of an existing list.\n",
        "\n",
        "Example:\n",
        "\n",
        "Based on a list of fruits, you want a new list, containing only the fruits with the letter \"a\" in the name.\n",
        "\n",
        "Without list comprehension you will have to write a `for` statement with a conditional test inside:"
      ],
      "metadata": {
        "id": "4ZgDiMayviBZ"
      }
    },
    {
      "cell_type": "code",
      "source": [
        "fruits = [\"apple\", \"banana\", \"cherry\", \"kiwi\", \"mango\"]\n",
        "newlist = []\n",
        "\n",
        "for x in fruits:\n",
        "  if \"a\" in x:\n",
        "    newlist.append(x)\n",
        "\n",
        "print(newlist)"
      ],
      "metadata": {
        "colab": {
          "base_uri": "https://localhost:8080/"
        },
        "id": "1nHODEwavU8P",
        "outputId": "549e1ff1-93b6-4478-9c4d-b57667c46072"
      },
      "execution_count": null,
      "outputs": [
        {
          "output_type": "stream",
          "name": "stdout",
          "text": [
            "['apple', 'banana', 'mango']\n"
          ]
        }
      ]
    },
    {
      "cell_type": "markdown",
      "source": [
        "With list comprehension you can do all that with only one line of code:"
      ],
      "metadata": {
        "id": "g0Ur4KEhvqsl"
      }
    },
    {
      "cell_type": "code",
      "source": [
        "fruits = [\"apple\", \"banana\", \"cherry\", \"kiwi\", \"mango\"]\n",
        "\n",
        "newlist = [x for x in fruits if \"a\" in x]\n",
        "\n",
        "print(newlist)"
      ],
      "metadata": {
        "colab": {
          "base_uri": "https://localhost:8080/"
        },
        "id": "fvJ9XF6Pvo7m",
        "outputId": "f47fcf11-5e96-4851-b53f-5c2ddd07cdd8"
      },
      "execution_count": null,
      "outputs": [
        {
          "output_type": "stream",
          "name": "stdout",
          "text": [
            "['apple', 'banana', 'mango']\n"
          ]
        }
      ]
    },
    {
      "cell_type": "markdown",
      "source": [
        "## The Syntax\n",
        "    newlist = [expression for item in iterable if condition == True]\n",
        "The return value is a new list, leaving the old list unchanged.\n",
        "\n",
        "## Condition\n",
        "The condition is like a filter that only accepts the items that valuate to `True`."
      ],
      "metadata": {
        "id": "ib397gMwvuVU"
      }
    },
    {
      "cell_type": "code",
      "source": [
        "# Only accept items that are not \"apple\":\n",
        "\n",
        "newlist = [x for x in fruits if x != \"apple\"]"
      ],
      "metadata": {
        "id": "nwVnKYK-vspI"
      },
      "execution_count": null,
      "outputs": []
    },
    {
      "cell_type": "markdown",
      "source": [
        "The condition `if x != \"apple\"`  will return True for all elements other than \"apple\", making the new list contain all fruits except \"apple\".\n",
        "\n",
        "The condition is optional and can be omitted:"
      ],
      "metadata": {
        "id": "AwIs_T9Dv8je"
      }
    },
    {
      "cell_type": "code",
      "source": [
        "# With no if statement:\n",
        "\n",
        "newlist = [x for x in fruits]"
      ],
      "metadata": {
        "id": "32HZZ9LAv6A1"
      },
      "execution_count": null,
      "outputs": []
    },
    {
      "cell_type": "markdown",
      "source": [
        "## Iterable\n",
        "The iterable can be any iterable object, like a list, tuple, set etc."
      ],
      "metadata": {
        "id": "byNmA_hAwB9i"
      }
    },
    {
      "cell_type": "code",
      "source": [
        "#You can use the range() function to create an iterable:\n",
        "\n",
        "newlist = [x for x in range(10)]"
      ],
      "metadata": {
        "id": "GnGi0A1hwAUv"
      },
      "execution_count": null,
      "outputs": []
    },
    {
      "cell_type": "code",
      "source": [
        "# Accept only numbers lower than 5:\n",
        "\n",
        "newlist = [x for x in range(10) if x < 5]"
      ],
      "metadata": {
        "id": "sYvBH4nwwE8l"
      },
      "execution_count": null,
      "outputs": []
    },
    {
      "cell_type": "markdown",
      "source": [
        "## Expression\n",
        "The expression is the current item in the iteration, but it is also the outcome, which you can manipulate before it ends up like a list item in the new list:"
      ],
      "metadata": {
        "id": "JIHRXHOtwRbg"
      }
    },
    {
      "cell_type": "code",
      "source": [
        "# Set the values in the new list to upper case:\n",
        "\n",
        "newlist = [x.upper() for x in fruits]"
      ],
      "metadata": {
        "id": "EfGCzhK2wO8X"
      },
      "execution_count": null,
      "outputs": []
    },
    {
      "cell_type": "code",
      "source": [
        "# You can set the outcome to whatever you like:\n",
        "# Set all values in the new list to 'hello':\n",
        "\n",
        "newlist = ['hello' for x in fruits]"
      ],
      "metadata": {
        "id": "2SvfR1hQwUAq"
      },
      "execution_count": null,
      "outputs": []
    },
    {
      "cell_type": "code",
      "source": [
        "''' The expression can also contain conditions, not like a filter, but as a way to manipulate the outcome:\n",
        "Return \"orange\" instead of \"banana\"'''\n",
        "\n",
        "newlist = [x if x != \"banana\" else \"orange\" for x in fruits]"
      ],
      "metadata": {
        "id": "m5oQqCEAwZh9"
      },
      "execution_count": null,
      "outputs": []
    },
    {
      "cell_type": "markdown",
      "source": [
        "# Python - Sort Lists\n",
        "## Sort List Alphanumerically\n",
        "List objects have a `sort()` method that will sort the list alphanumerically, ascending, by default:"
      ],
      "metadata": {
        "id": "0u9xqm0AwrpB"
      }
    },
    {
      "cell_type": "code",
      "source": [
        "#Sort the list alphabetically:\n",
        "\n",
        "thislist = [\"orange\", \"mango\", \"kiwi\", \"pineapple\", \"banana\"]\n",
        "thislist.sort()\n",
        "print(thislist)"
      ],
      "metadata": {
        "colab": {
          "base_uri": "https://localhost:8080/"
        },
        "id": "3HDMHIznwgqk",
        "outputId": "bb0bace6-dfac-4512-e7f4-1829b1d138bd"
      },
      "execution_count": null,
      "outputs": [
        {
          "output_type": "stream",
          "name": "stdout",
          "text": [
            "['banana', 'kiwi', 'mango', 'orange', 'pineapple']\n"
          ]
        }
      ]
    },
    {
      "cell_type": "code",
      "source": [
        "# Sort the list numerically:\n",
        "\n",
        "thislist = [100, 50, 65, 82, 23]\n",
        "thislist.sort()\n",
        "print(thislist)"
      ],
      "metadata": {
        "id": "uPGFL8MUwyKF",
        "outputId": "f8beb2d9-78fd-4f69-8701-86b4fc8005ec",
        "colab": {
          "base_uri": "https://localhost:8080/"
        }
      },
      "execution_count": null,
      "outputs": [
        {
          "output_type": "stream",
          "name": "stdout",
          "text": [
            "[23, 50, 65, 82, 100]\n"
          ]
        }
      ]
    },
    {
      "cell_type": "markdown",
      "source": [
        "## Sort Descending\n",
        "To sort descending, use the keyword argument `reverse = True`:"
      ],
      "metadata": {
        "id": "AjPNSg2Nw3ok"
      }
    },
    {
      "cell_type": "code",
      "source": [
        "# Sort the list descending:\n",
        "\n",
        "thislist = [\"orange\", \"mango\", \"kiwi\", \"pineapple\", \"banana\"]\n",
        "thislist.sort(reverse = True)\n",
        "print(thislist)"
      ],
      "metadata": {
        "id": "lO3J7GPkw1mM",
        "outputId": "646a7ddc-debb-4eca-b8a6-6b1bb5b74b15",
        "colab": {
          "base_uri": "https://localhost:8080/"
        }
      },
      "execution_count": null,
      "outputs": [
        {
          "output_type": "stream",
          "name": "stdout",
          "text": [
            "['pineapple', 'orange', 'mango', 'kiwi', 'banana']\n"
          ]
        }
      ]
    },
    {
      "cell_type": "code",
      "source": [
        "# Sort the list descending:\n",
        "\n",
        "thislist = [100, 50, 65, 82, 23]\n",
        "thislist.sort(reverse = True)\n",
        "print(thislist)"
      ],
      "metadata": {
        "id": "Fp91UBtQw8KZ",
        "outputId": "c82db17f-4e05-4cc8-d6f8-ef3b3b6995d9",
        "colab": {
          "base_uri": "https://localhost:8080/"
        }
      },
      "execution_count": null,
      "outputs": [
        {
          "output_type": "stream",
          "name": "stdout",
          "text": [
            "[100, 82, 65, 50, 23]\n"
          ]
        }
      ]
    },
    {
      "cell_type": "markdown",
      "source": [
        "## Customize Sort Function\n",
        "You can also customize your own function by using the keyword argument `key = function.`\n",
        "\n",
        "The function will return a number that will be used to sort the list (the lowest number first):"
      ],
      "metadata": {
        "id": "eWWEmtIQw_zY"
      }
    },
    {
      "cell_type": "code",
      "source": [
        "# Sort the list based on how close the number is to 50:\n",
        "\n",
        "def myfunc(n):\n",
        "  return abs(n - 50)\n",
        "\n",
        "thislist = [100, 50, 65, 82, 23]\n",
        "thislist.sort(key = myfunc)\n",
        "print(thislist)"
      ],
      "metadata": {
        "id": "9a5MFAtUw-AL",
        "outputId": "8b4e923d-4278-4cf5-aa79-4496e71ad205",
        "colab": {
          "base_uri": "https://localhost:8080/"
        }
      },
      "execution_count": null,
      "outputs": [
        {
          "output_type": "stream",
          "name": "stdout",
          "text": [
            "[50, 65, 23, 82, 100]\n"
          ]
        }
      ]
    },
    {
      "cell_type": "markdown",
      "source": [
        "## Case Insensitive Sort\n",
        "By default the `sort()` method is case sensitive, resulting in all capital letters being sorted before lower case letters:"
      ],
      "metadata": {
        "id": "2eRz7qfpxjbv"
      }
    },
    {
      "cell_type": "code",
      "source": [
        "# Case sensitive sorting can give an unexpected result:\n",
        "\n",
        "thislist = [\"banana\", \"Orange\", \"Kiwi\", \"cherry\"]\n",
        "thislist.sort()\n",
        "print(thislist)"
      ],
      "metadata": {
        "id": "gqrUCEy0xENH",
        "outputId": "5c6df33f-1d7d-4bb0-fc13-b7181adeb22a",
        "colab": {
          "base_uri": "https://localhost:8080/"
        }
      },
      "execution_count": null,
      "outputs": [
        {
          "output_type": "stream",
          "name": "stdout",
          "text": [
            "['Kiwi', 'Orange', 'banana', 'cherry']\n"
          ]
        }
      ]
    },
    {
      "cell_type": "markdown",
      "source": [
        "Luckily we can use built-in functions as key functions when sorting a list.\n",
        "\n",
        "So if you want a case-insensitive sort function, use str.lower as a key function:"
      ],
      "metadata": {
        "id": "7XQofGoLyN5x"
      }
    },
    {
      "cell_type": "code",
      "source": [
        "# Perform a case-insensitive sort of the list:\n",
        "\n",
        "thislist = [\"banana\", \"Orange\", \"Kiwi\", \"cherry\"]\n",
        "thislist.sort(key = str.lower)\n",
        "print(thislist)"
      ],
      "metadata": {
        "id": "9-z84Iq5yLrH",
        "outputId": "363f4990-df11-4b22-d440-d900f54fc88e",
        "colab": {
          "base_uri": "https://localhost:8080/"
        }
      },
      "execution_count": null,
      "outputs": [
        {
          "output_type": "stream",
          "name": "stdout",
          "text": [
            "['banana', 'cherry', 'Kiwi', 'Orange']\n"
          ]
        }
      ]
    },
    {
      "cell_type": "markdown",
      "source": [
        "## Reverse Order\n",
        "What if you want to reverse the order of a list, regardless of the alphabet?\n",
        "\n",
        "The `reverse()` method reverses the current sorting order of the elements."
      ],
      "metadata": {
        "id": "-92DuTNhyRwW"
      }
    },
    {
      "cell_type": "code",
      "source": [
        "#Reverse the order of the list items:\n",
        "\n",
        "thislist = [\"banana\", \"Orange\", \"Kiwi\", \"cherry\"]\n",
        "thislist.reverse()\n",
        "print(thislist)"
      ],
      "metadata": {
        "id": "DqiW0d77yP9q",
        "outputId": "19223652-bbb1-427e-f908-237727828716",
        "colab": {
          "base_uri": "https://localhost:8080/"
        }
      },
      "execution_count": null,
      "outputs": [
        {
          "output_type": "stream",
          "name": "stdout",
          "text": [
            "['cherry', 'Kiwi', 'Orange', 'banana']\n"
          ]
        }
      ]
    },
    {
      "cell_type": "code",
      "source": [],
      "metadata": {
        "id": "ddgxBjJYyWGY"
      },
      "execution_count": null,
      "outputs": []
    }
  ]
}