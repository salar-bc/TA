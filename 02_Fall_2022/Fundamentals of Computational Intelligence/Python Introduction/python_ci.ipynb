{
  "nbformat": 4,
  "nbformat_minor": 0,
  "metadata": {
    "colab": {
      "provenance": [],
      "authorship_tag": "ABX9TyO0KWd0oCSuXfyxwAeGtUDI",
      "include_colab_link": true
    },
    "kernelspec": {
      "name": "python3",
      "display_name": "Python 3"
    },
    "language_info": {
      "name": "python"
    }
  },
  "cells": [
    {
      "cell_type": "markdown",
      "metadata": {
        "id": "view-in-github",
        "colab_type": "text"
      },
      "source": [
        "<a href=\"https://colab.research.google.com/github/salarMokhtariL/TA/blob/main/02_Fall_2022/Fundamentals%20of%20Computational%20Intelligence/Python%20Introduction/python_ci.ipynb\" target=\"_parent\"><img src=\"https://colab.research.google.com/assets/colab-badge.svg\" alt=\"Open In Colab\"/></a>"
      ]
    },
    {
      "cell_type": "markdown",
      "source": [
        "# Python Programming Language\n",
        "\n",
        "### Lec : Dr. Mohammad Ali Balafar\n",
        "\n",
        "### TA : Salar Mokhtari Laleh  "
      ],
      "metadata": {
        "id": "w1vSmyIDgctV"
      }
    },
    {
      "cell_type": "markdown",
      "source": [
        "## Class Information:\n",
        " \n",
        " Class at [Quera](https://quera.org/course/add_to_course/course/11843/) to send homeworks with **TBZ** password \n",
        "\n",
        "Homework and projects will be uploaded to [Github](https://github.com/salarMokhtariL/TA) repositories\n",
        "\n",
        "Email sending assignments if the link to the **Quora website does not work**\n",
        "\n",
        "\tsalarmokhtrai0@gmail.com"
      ],
      "metadata": {
        "id": "LbDVxMVshXLw"
      }
    },
    {
      "cell_type": "markdown",
      "source": [
        "# Python \n",
        "\n",
        "Python is an easy to learn, powerful programming language. It has efficient high-level data structures and a simple but effective approach to object-oriented programming. Python’s elegant syntax and dynamic typing, together with its interpreted nature, make it an ideal language for scripting and rapid application development in many areas on most platforms.\n",
        "\n",
        "The Python interpreter and the extensive standard library are freely available in source or binary form for all major platforms from the Python web site, https://www.python.org/, and may be freely distributed. The same site also contains distributions of and pointers to many free third party Python modules, programs and tools, and additional documentation.\n",
        "\n",
        "The Python interpreter is easily extended with new functions and data types implemented in C or C++ (or other languages callable from C). Python is also suitable as an extension language for customizable applications.\n",
        "\n",
        "you write Python (.py) files in a text editor and then put those files into the python interpreter to be executed. Depending on the Editor you are using, this is either done automatically, or you need to do it manually.\n",
        "\n",
        "\n",
        "## Interpreted vs. Compiled\n",
        "\n",
        "\n",
        "Programming languages generally fall into one of two categories: Compiled or Interpreted. With a compiled language, code you enter is reduced to a set of machine-specific instructions before being saved as an executable file.\n",
        "Both approaches have their advantages and disadvantages.\n",
        "\n",
        "With interpreted languages, the code is saved in the same format that you entered. Compiled programs generally run faster than interpreted ones because interpreted programs must be reduced to machine instructions at run-time. It is usually easier to develop applications in an interpreted environment because you don’t have to recompile your application each time you want to test a small section.\n",
        "\n",
        "Compiled languages are all translated by running the source code through a compiler. This results in very efficient code that can be executed any number of times. The overhead for the translation is incurred just once, when the source is compiled; thereafter, it need only be loaded and executed.\n",
        "\n",
        "Interpreted languages, in contrast, must be parsed, interpreted, and executed each time the program is run.\n",
        "\n",
        "## Python Packages for Science and Numerical Computations\n",
        "Some important Python Packages for Science and Numerical Computations are: \n",
        "\n",
        "  *   NumPy\n",
        "\n",
        "  *   SciPy\n",
        "  *   Matplotlib\n",
        "  *   Pandas\n",
        "\n",
        "These packages need to be downloaded and installed separately, or you choose to use, e.g., a distribution package like Anaconda, where you typically get the packages you need for scientific computing\n"
      ],
      "metadata": {
        "id": "xjbB96Nwh8Zr"
      }
    },
    {
      "cell_type": "markdown",
      "source": [
        "# Python Comments \n",
        "\n",
        "\n",
        "  *   Comments can be used to explain Python code.\n",
        "  *   Comments can be used to make the code more readable.\n",
        "  *   Comments can be used to prevent execution when testing code.\n",
        "\n",
        "## Creating a Comment\n",
        "\n",
        "Comments starts with a `#`, and Python will ignore them\n",
        "    \n",
        "    # This's a Comment\n",
        "    print(\"hello world\")\n",
        "\n",
        "Comments can be placed at the end of a line, and Python will ignore the rest of the line:\n",
        "\n",
        "    print(\"Hello, World!\") #This is a comment\n",
        "\n",
        "A comment does not have to be text that explains the code, it can also be used to prevent Python from executing code:\n",
        "\n",
        "    #print(\"Hello, World!\")\n",
        "    print(\"Cheers, Mate!\")\n",
        "\n",
        "## Multi Line Comments\n",
        "Python does not really have a syntax for multi line comments.\n",
        "\n",
        "To add a multiline comment you could insert a `#` for each line:\n",
        "\n",
        "    #This is a comment\n",
        "    #written in\n",
        "    #more than just one line\n",
        "    print(\"Hello, World!\")\n",
        "\n",
        "Or, not quite as intended, you can use a multiline string.\n",
        "\n",
        "Since Python will ignore string literals that are not assigned to a variable, you can add a multiline string (triple quotes) in your code, and place your comment inside it:\n",
        "\n",
        "    \"\"\"\n",
        "    This is a comment\n",
        "    written in\n",
        "    more than just one line\n",
        "    \"\"\"\n",
        "    print(\"Hello, World!\")\n",
        "\n",
        "As long as the string is not assigned to a variable, Python will read the code, but then ignore it, and you have made a multiline comment."
      ],
      "metadata": {
        "id": "D2CuzNXliy4b"
      }
    },
    {
      "cell_type": "markdown",
      "source": [
        "# Python Variables\n",
        "\n",
        "Variables are containers for storing data values.\n",
        "\n",
        "### Creating Variables\n",
        "Python has no command for declaring a variable.\n",
        "\n",
        "A variable is created the moment you first assign a value to it."
      ],
      "metadata": {
        "id": "aseRXlFakL6R"
      }
    },
    {
      "cell_type": "code",
      "source": [
        "x = 5\n",
        "y = \"John\"\n",
        "print(x)\n",
        "print(y)"
      ],
      "metadata": {
        "colab": {
          "base_uri": "https://localhost:8080/"
        },
        "id": "RLeZqRyUiyrK",
        "outputId": "aa07e835-675d-4a76-8319-40a7c632172d"
      },
      "execution_count": null,
      "outputs": [
        {
          "output_type": "stream",
          "name": "stdout",
          "text": [
            "5\n",
            "John\n"
          ]
        }
      ]
    },
    {
      "cell_type": "code",
      "source": [
        "# Variables do not need to be declared with any particular type, and can even change type after they have been set.\n",
        "\n",
        "x = 4       # x is of type int\n",
        "x = \"Sally\" # x is now of type str\n",
        "print(x)"
      ],
      "metadata": {
        "id": "YysAHn38ktWP",
        "colab": {
          "base_uri": "https://localhost:8080/"
        },
        "outputId": "c586dd1c-4a41-4c22-d29b-ec4f49c008da"
      },
      "execution_count": null,
      "outputs": [
        {
          "output_type": "stream",
          "name": "stdout",
          "text": [
            "Sally\n"
          ]
        }
      ]
    },
    {
      "cell_type": "markdown",
      "source": [
        "### Casting\n",
        "\n",
        "If you want to specify the data type of a variable, this can be done with casting.\n"
      ],
      "metadata": {
        "id": "J7Bj_3kXZobh"
      }
    },
    {
      "cell_type": "code",
      "source": [
        "x = str(3)    # x will be '3'\n",
        "y = int(3)    # y will be 3\n",
        "z = float(3)  # z will be 3.0"
      ],
      "metadata": {
        "id": "xV_QQcQoZjIs"
      },
      "execution_count": null,
      "outputs": []
    },
    {
      "cell_type": "code",
      "source": [
        "print(type(x))"
      ],
      "metadata": {
        "colab": {
          "base_uri": "https://localhost:8080/"
        },
        "id": "WpJwm6miZubA",
        "outputId": "811be032-5405-4e50-fb73-70c4497086dd"
      },
      "execution_count": null,
      "outputs": [
        {
          "output_type": "stream",
          "name": "stdout",
          "text": [
            "<class 'str'>\n"
          ]
        }
      ]
    },
    {
      "cell_type": "code",
      "source": [
        "print(type(y))\n",
        "print(type(z))"
      ],
      "metadata": {
        "colab": {
          "base_uri": "https://localhost:8080/"
        },
        "id": "ikYgQBw4Z23i",
        "outputId": "b1c6d221-08dc-4e76-b378-2f9bab7d7976"
      },
      "execution_count": null,
      "outputs": [
        {
          "output_type": "stream",
          "name": "stdout",
          "text": [
            "<class 'int'>\n",
            "<class 'float'>\n"
          ]
        }
      ]
    },
    {
      "cell_type": "markdown",
      "source": [
        "## Python Variable Names\n",
        "\n",
        "A variable can have a short name (like x and y) or a more descriptive name \n",
        "(age, carname, total_volume). Rules for Python variables:\n",
        "\n",
        "* A variable name must start with a letter or the underscore character\n",
        "* A variable name cannot start with a number\n",
        "* A variable name can only contain alpha-numeric characters and underscores (A-z, 0-9, and _ )\n",
        "* Variable names are case-sensitive (age, Age and AGE are three different variables)"
      ],
      "metadata": {
        "id": "jm8jYSdqaLbC"
      }
    },
    {
      "cell_type": "code",
      "source": [
        "myvar = \"John\"\n",
        "my_var = \"John\"\n",
        "_my_var = \"John\"\n",
        "myVar = \"John\"\n",
        "MYVAR = \"John\"\n",
        "myvar2 = \"John\""
      ],
      "metadata": {
        "id": "6kuAJxS9Z-p7"
      },
      "execution_count": null,
      "outputs": []
    },
    {
      "cell_type": "markdown",
      "source": [
        "## Python Variables - Assign Multiple Values\n",
        "### Many Values to Multiple Variables\n",
        "Python allows you to assign values to multiple variables in one line:\n"
      ],
      "metadata": {
        "id": "lXjIubiIak59"
      }
    },
    {
      "cell_type": "code",
      "source": [
        "x, y, z = \"Orange\", \"Banana\", \"Cherry\"\n",
        "print(x)\n",
        "print(y)\n",
        "print(z)"
      ],
      "metadata": {
        "colab": {
          "base_uri": "https://localhost:8080/"
        },
        "id": "ZY0tn6mOahqj",
        "outputId": "0ddc83aa-2c91-4de9-ab04-ee90973c3c4d"
      },
      "execution_count": null,
      "outputs": [
        {
          "output_type": "stream",
          "name": "stdout",
          "text": [
            "Orange\n",
            "Banana\n",
            "Cherry\n"
          ]
        }
      ]
    },
    {
      "cell_type": "markdown",
      "source": [
        "### One Value to Multiple Variables\n",
        "And you can assign the same value to multiple variables in one line:"
      ],
      "metadata": {
        "id": "pIovTQhOaulp"
      }
    },
    {
      "cell_type": "code",
      "source": [
        "x = y = z = \"Orange\"\n",
        "print(x)\n",
        "print(y)\n",
        "print(z)"
      ],
      "metadata": {
        "colab": {
          "base_uri": "https://localhost:8080/"
        },
        "id": "Um8eMAl4asOa",
        "outputId": "95595c37-a852-41e4-acfd-3b25b35c620d"
      },
      "execution_count": null,
      "outputs": [
        {
          "output_type": "stream",
          "name": "stdout",
          "text": [
            "Orange\n",
            "Orange\n",
            "Orange\n"
          ]
        }
      ]
    },
    {
      "cell_type": "markdown",
      "source": [
        "### Unpack a Collection\n",
        "If you have a collection of values in a list, tuple etc. Python allows you to extract the values into variables. This is called unpacking."
      ],
      "metadata": {
        "id": "-KzCJNBFa3Pq"
      }
    },
    {
      "cell_type": "code",
      "source": [
        "fruits = [\"apple\", \"banana\", \"cherry\"]\n",
        "x, y, z = fruits\n",
        "print(x)\n",
        "print(y)\n",
        "print(z)"
      ],
      "metadata": {
        "colab": {
          "base_uri": "https://localhost:8080/"
        },
        "id": "TVGGCUHkaz33",
        "outputId": "b2050349-8cd8-462a-9bce-7d3b375c2e1b"
      },
      "execution_count": null,
      "outputs": [
        {
          "output_type": "stream",
          "name": "stdout",
          "text": [
            "apple\n",
            "banana\n",
            "cherry\n"
          ]
        }
      ]
    },
    {
      "cell_type": "markdown",
      "source": [
        "## Python - Output Variables\n",
        "The Python `print()` function is often used to output variables."
      ],
      "metadata": {
        "id": "saWwsQxtbEWk"
      }
    },
    {
      "cell_type": "code",
      "source": [
        "x = \"Python is awesome\"\n",
        "print(x)"
      ],
      "metadata": {
        "colab": {
          "base_uri": "https://localhost:8080/"
        },
        "id": "Lnt5IlQnbJok",
        "outputId": "6b7c0d3c-e338-42ca-fb54-bccf101c09eb"
      },
      "execution_count": null,
      "outputs": [
        {
          "output_type": "stream",
          "name": "stdout",
          "text": [
            "Python is awesome\n"
          ]
        }
      ]
    },
    {
      "cell_type": "code",
      "source": [
        "# In the `print()` function, you output multiple variables, separated by a comma:\n",
        "\n",
        "x = \"Python\"\n",
        "y = \"is\"\n",
        "z = \"awesome\"\n",
        "print(x, y, z)"
      ],
      "metadata": {
        "colab": {
          "base_uri": "https://localhost:8080/"
        },
        "id": "Fnzmn807bOOJ",
        "outputId": "80933642-c8f8-46f4-cf85-f44e13395a1b"
      },
      "execution_count": null,
      "outputs": [
        {
          "output_type": "stream",
          "name": "stdout",
          "text": [
            "Python is awesome\n"
          ]
        }
      ]
    },
    {
      "cell_type": "code",
      "source": [
        "# You can also use the `+` operator to output multiple variables:\n",
        "\n",
        "x = \"Python \"\n",
        "y = \"is \"\n",
        "z = \"awesome\"\n",
        "print(x + y + z)"
      ],
      "metadata": {
        "colab": {
          "base_uri": "https://localhost:8080/"
        },
        "id": "9G1KzXr0bTDV",
        "outputId": "4d41239f-d1c0-4927-b86c-a31a381817cc"
      },
      "execution_count": null,
      "outputs": [
        {
          "output_type": "stream",
          "name": "stdout",
          "text": [
            "Python is awesome\n"
          ]
        }
      ]
    },
    {
      "cell_type": "code",
      "source": [
        "# For numbers, the `+` character works as a mathematical operator:\n",
        "\n",
        "x = 5\n",
        "y = 10\n",
        "print(x + y)"
      ],
      "metadata": {
        "colab": {
          "base_uri": "https://localhost:8080/"
        },
        "id": "b3j0CdZtbayZ",
        "outputId": "a370e4c3-d1f7-40f5-e812-9cc007965f92"
      },
      "execution_count": null,
      "outputs": [
        {
          "output_type": "stream",
          "name": "stdout",
          "text": [
            "15\n"
          ]
        }
      ]
    },
    {
      "cell_type": "code",
      "source": [
        "# In the print() function, when you try to combine a string and a number with the + operator, Python will give you an error:\n",
        "\n",
        "x = 5\n",
        "y = \"John\"\n",
        "print(x + y)"
      ],
      "metadata": {
        "colab": {
          "base_uri": "https://localhost:8080/",
          "height": 201
        },
        "id": "labDj113blPS",
        "outputId": "9df3bef5-d7c3-44a1-851b-abd01757b5c1"
      },
      "execution_count": null,
      "outputs": [
        {
          "output_type": "error",
          "ename": "TypeError",
          "evalue": "ignored",
          "traceback": [
            "\u001b[0;31m---------------------------------------------------------------------------\u001b[0m",
            "\u001b[0;31mTypeError\u001b[0m                                 Traceback (most recent call last)",
            "\u001b[0;32m<ipython-input-13-e5e5921deed2>\u001b[0m in \u001b[0;36m<module>\u001b[0;34m\u001b[0m\n\u001b[1;32m      3\u001b[0m \u001b[0mx\u001b[0m \u001b[0;34m=\u001b[0m \u001b[0;36m5\u001b[0m\u001b[0;34m\u001b[0m\u001b[0;34m\u001b[0m\u001b[0m\n\u001b[1;32m      4\u001b[0m \u001b[0my\u001b[0m \u001b[0;34m=\u001b[0m \u001b[0;34m\"John\"\u001b[0m\u001b[0;34m\u001b[0m\u001b[0;34m\u001b[0m\u001b[0m\n\u001b[0;32m----> 5\u001b[0;31m \u001b[0mprint\u001b[0m\u001b[0;34m(\u001b[0m\u001b[0mx\u001b[0m \u001b[0;34m+\u001b[0m \u001b[0my\u001b[0m\u001b[0;34m)\u001b[0m\u001b[0;34m\u001b[0m\u001b[0;34m\u001b[0m\u001b[0m\n\u001b[0m",
            "\u001b[0;31mTypeError\u001b[0m: unsupported operand type(s) for +: 'int' and 'str'"
          ]
        }
      ]
    },
    {
      "cell_type": "code",
      "source": [
        "# The best way to output multiple variables in the print() function is to separate them with commas, which even support different data types:\n",
        "\n",
        "x = 5\n",
        "y = \"John\"\n",
        "print(x, y)"
      ],
      "metadata": {
        "colab": {
          "base_uri": "https://localhost:8080/"
        },
        "id": "Zx5x-8ncbsnM",
        "outputId": "eb89669a-8ebf-4240-b42a-dfc7f69a755e"
      },
      "execution_count": null,
      "outputs": [
        {
          "output_type": "stream",
          "name": "stdout",
          "text": [
            "5 John\n"
          ]
        }
      ]
    },
    {
      "cell_type": "markdown",
      "source": [
        "## Python - Global Variables\n",
        "### Global Variables\n",
        "Variables that are created outside of a function (as in all of the examples above) are known as global variables.\n",
        "\n",
        "Global variables can be used by everyone, both inside of functions and outside."
      ],
      "metadata": {
        "id": "dUvWxEK6b5oH"
      }
    },
    {
      "cell_type": "code",
      "source": [
        "# Create a variable outside of a function, and use it inside the function\n",
        "\n",
        "x = \"awesome\"\n",
        "\n",
        "def myfunc():\n",
        "  print(\"Python is \" + x)\n",
        "\n",
        "myfunc()"
      ],
      "metadata": {
        "id": "0XUCB14EcBZA",
        "outputId": "a317e1fb-7d9c-40fc-a7de-aa819b53d611",
        "colab": {
          "base_uri": "https://localhost:8080/"
        }
      },
      "execution_count": null,
      "outputs": [
        {
          "output_type": "stream",
          "name": "stdout",
          "text": [
            "Python is awesome\n"
          ]
        }
      ]
    },
    {
      "cell_type": "markdown",
      "source": [
        "If you create a variable with the same name inside a function, this variable will be local, and can only be used inside the function. The global variable with the same name will remain as it was, global and with the original value."
      ],
      "metadata": {
        "id": "IuvVu_EMcmE0"
      }
    },
    {
      "cell_type": "code",
      "source": [
        "# Create a variable inside a function, with the same name as the global variable\n",
        "\n",
        "x = \"awesome\"\n",
        "\n",
        "def myfunc():\n",
        "  x = \"fantastic\"\n",
        "  print(\"Python is \" + x)\n",
        "\n",
        "myfunc()\n",
        "\n",
        "print(\"Python is \" + x)"
      ],
      "metadata": {
        "id": "wqQf3LXrcmpX",
        "outputId": "04398122-793a-4568-edef-68d95abfeb4e",
        "colab": {
          "base_uri": "https://localhost:8080/"
        }
      },
      "execution_count": null,
      "outputs": [
        {
          "output_type": "stream",
          "name": "stdout",
          "text": [
            "Python is fantastic\n",
            "Python is awesome\n"
          ]
        }
      ]
    },
    {
      "cell_type": "markdown",
      "source": [
        "###The global Keyword\n",
        "Normally, when you create a variable inside a function, that variable is local, and can only be used inside that function.\n",
        "\n",
        "To create a global variable inside a function, you can use the `global` keyword."
      ],
      "metadata": {
        "id": "Pa9wlwYucsub"
      }
    },
    {
      "cell_type": "code",
      "source": [
        "# If you use the global keyword, the variable belongs to the global scope:\n",
        "\n",
        "def myfunc():\n",
        "  global x\n",
        "  x = \"fantastic\"\n",
        "\n",
        "myfunc()\n",
        "\n",
        "print(\"Python is \" + x)"
      ],
      "metadata": {
        "id": "ewIXLSlvco-2",
        "outputId": "361011b8-9564-4f17-e861-7eb02e67b028",
        "colab": {
          "base_uri": "https://localhost:8080/"
        }
      },
      "execution_count": null,
      "outputs": [
        {
          "output_type": "stream",
          "name": "stdout",
          "text": [
            "Python is fantastic\n"
          ]
        }
      ]
    },
    {
      "cell_type": "markdown",
      "source": [
        "Also, use the global keyword if you want to change a `global` variable inside a function."
      ],
      "metadata": {
        "id": "V8FFvWh1c18D"
      }
    },
    {
      "cell_type": "code",
      "source": [
        "# To change the value of a global variable inside a function, refer to the variable by using the global keyword:\n",
        "\n",
        "x = \"awesome\"\n",
        "\n",
        "def myfunc():\n",
        "  global x\n",
        "  x = \"fantastic\"\n",
        "\n",
        "myfunc()\n",
        "\n",
        "print(\"Python is \" + x)"
      ],
      "metadata": {
        "id": "fo_EcVM3cztL",
        "outputId": "abd6daa6-72d4-4b72-838a-194e6465a29c",
        "colab": {
          "base_uri": "https://localhost:8080/"
        }
      },
      "execution_count": null,
      "outputs": [
        {
          "output_type": "stream",
          "name": "stdout",
          "text": [
            "Python is fantastic\n"
          ]
        }
      ]
    },
    {
      "cell_type": "code",
      "source": [],
      "metadata": {
        "id": "Z2RUKPDtc6Zt"
      },
      "execution_count": null,
      "outputs": []
    }
  ]
}