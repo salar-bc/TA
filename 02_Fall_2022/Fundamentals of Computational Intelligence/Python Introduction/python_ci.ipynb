{
  "nbformat": 4,
  "nbformat_minor": 0,
  "metadata": {
    "colab": {
      "provenance": [],
      "authorship_tag": "ABX9TyOyvWnkt1WE/A4znAEDXEmf",
      "include_colab_link": true
    },
    "kernelspec": {
      "name": "python3",
      "display_name": "Python 3"
    },
    "language_info": {
      "name": "python"
    }
  },
  "cells": [
    {
      "cell_type": "markdown",
      "metadata": {
        "id": "view-in-github",
        "colab_type": "text"
      },
      "source": [
        "<a href=\"https://colab.research.google.com/github/salarMokhtariL/TA/blob/main/02_Fall_2022/Fundamentals%20of%20Computational%20Intelligence/Python%20Introduction/python_ci.ipynb\" target=\"_parent\"><img src=\"https://colab.research.google.com/assets/colab-badge.svg\" alt=\"Open In Colab\"/></a>"
      ]
    },
    {
      "cell_type": "markdown",
      "source": [
        "# Python Programming Language\n",
        "\n",
        "### Lec : Dr. Mohammad Ali Balafar\n",
        "\n",
        "### TA : Salar Mokhtari Laleh  "
      ],
      "metadata": {
        "id": "w1vSmyIDgctV"
      }
    },
    {
      "cell_type": "markdown",
      "source": [
        "## Class Information:\n",
        " \n",
        " Class at [Quera](https://quera.org/course/add_to_course/course/11843/) to send homeworks with **TBZ** password \n",
        "\n",
        "Homework and projects will be uploaded to [Github](https://github.com/salarMokhtariL/TA) repositories\n",
        "\n",
        "Email sending assignments if the link to the **Quora website does not work**\n",
        "\n",
        "\tsalarmokhtrai0@gmail.com"
      ],
      "metadata": {
        "id": "LbDVxMVshXLw"
      }
    },
    {
      "cell_type": "code",
      "execution_count": null,
      "metadata": {
        "id": "pQVNyofXe4yw"
      },
      "outputs": [],
      "source": []
    }
  ]
}