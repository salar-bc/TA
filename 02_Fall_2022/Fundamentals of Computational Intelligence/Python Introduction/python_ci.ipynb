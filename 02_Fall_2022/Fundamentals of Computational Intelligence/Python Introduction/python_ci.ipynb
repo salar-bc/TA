{
  "nbformat": 4,
  "nbformat_minor": 0,
  "metadata": {
    "colab": {
      "provenance": [],
      "authorship_tag": "ABX9TyN0NHlHHlNgizjWCLnbLyuQ",
      "include_colab_link": true
    },
    "kernelspec": {
      "name": "python3",
      "display_name": "Python 3"
    },
    "language_info": {
      "name": "python"
    }
  },
  "cells": [
    {
      "cell_type": "markdown",
      "metadata": {
        "id": "view-in-github",
        "colab_type": "text"
      },
      "source": [
        "<a href=\"https://colab.research.google.com/github/salarMokhtariL/TA/blob/main/02_Fall_2022/Fundamentals%20of%20Computational%20Intelligence/Python%20Introduction/python_ci.ipynb\" target=\"_parent\"><img src=\"https://colab.research.google.com/assets/colab-badge.svg\" alt=\"Open In Colab\"/></a>"
      ]
    },
    {
      "cell_type": "markdown",
      "source": [
        "# Python Programming Language\n",
        "\n",
        "### Lec : Dr. Mohammad Ali Balafar\n",
        "\n",
        "### TA : Salar Mokhtari Laleh  "
      ],
      "metadata": {
        "id": "w1vSmyIDgctV"
      }
    },
    {
      "cell_type": "markdown",
      "source": [
        "## Class Information:\n",
        " \n",
        " Class at [Quera](https://quera.org/course/add_to_course/course/11843/) to send homeworks with **TBZ** password \n",
        "\n",
        "Homework and projects will be uploaded to [Github](https://github.com/salarMokhtariL/TA) repositories\n",
        "\n",
        "Email sending assignments if the link to the **Quora website does not work**\n",
        "\n",
        "\tsalarmokhtrai0@gmail.com"
      ],
      "metadata": {
        "id": "LbDVxMVshXLw"
      }
    },
    {
      "cell_type": "markdown",
      "source": [
        "# Python \n",
        "\n",
        "Python is an easy to learn, powerful programming language. It has efficient high-level data structures and a simple but effective approach to object-oriented programming. Python’s elegant syntax and dynamic typing, together with its interpreted nature, make it an ideal language for scripting and rapid application development in many areas on most platforms.\n",
        "\n",
        "The Python interpreter and the extensive standard library are freely available in source or binary form for all major platforms from the Python web site, https://www.python.org/, and may be freely distributed. The same site also contains distributions of and pointers to many free third party Python modules, programs and tools, and additional documentation.\n",
        "\n",
        "The Python interpreter is easily extended with new functions and data types implemented in C or C++ (or other languages callable from C). Python is also suitable as an extension language for customizable applications.\n",
        "\n",
        "you write Python (.py) files in a text editor and then put those files into the python interpreter to be executed. Depending on the Editor you are using, this is either done automatically, or you need to do it manually.\n",
        "\n",
        "\n",
        "## Interpreted vs. Compiled\n",
        "\n",
        "\n",
        "Programming languages generally fall into one of two categories: Compiled or Interpreted. With a compiled language, code you enter is reduced to a set of machine-specific instructions before being saved as an executable file.\n",
        "Both approaches have their advantages and disadvantages.\n",
        "\n",
        "With interpreted languages, the code is saved in the same format that you entered. Compiled programs generally run faster than interpreted ones because interpreted programs must be reduced to machine instructions at run-time. It is usually easier to develop applications in an interpreted environment because you don’t have to recompile your application each time you want to test a small section.\n",
        "\n",
        "Compiled languages are all translated by running the source code through a compiler. This results in very efficient code that can be executed any number of times. The overhead for the translation is incurred just once, when the source is compiled; thereafter, it need only be loaded and executed.\n",
        "\n",
        "Interpreted languages, in contrast, must be parsed, interpreted, and executed each time the program is run.\n",
        "\n",
        "## Python Packages for Science and Numerical Computations\n",
        "Some important Python Packages for Science and Numerical Computations are: \n",
        "\n",
        "  *   NumPy\n",
        "\n",
        "  *   SciPy\n",
        "  *   Matplotlib\n",
        "  *   Pandas\n",
        "\n",
        "These packages need to be downloaded and installed separately, or you choose to use, e.g., a distribution package like Anaconda, where you typically get the packages you need for scientific computing\n"
      ],
      "metadata": {
        "id": "xjbB96Nwh8Zr"
      }
    },
    {
      "cell_type": "markdown",
      "source": [
        "# Python Comments \n",
        "\n",
        "\n",
        "  *   Comments can be used to explain Python code.\n",
        "  *   Comments can be used to make the code more readable.\n",
        "  *   Comments can be used to prevent execution when testing code.\n",
        "\n",
        "## Creating a Comment\n",
        "\n",
        "Comments starts with a `#`, and Python will ignore them\n",
        "    \n",
        "    # This's a Comment\n",
        "    print(\"hello world\")\n",
        "\n",
        "Comments can be placed at the end of a line, and Python will ignore the rest of the line:\n",
        "\n",
        "    print(\"Hello, World!\") #This is a comment\n",
        "\n",
        "A comment does not have to be text that explains the code, it can also be used to prevent Python from executing code:\n",
        "\n",
        "    #print(\"Hello, World!\")\n",
        "    print(\"Cheers, Mate!\")\n",
        "\n",
        "## Multi Line Comments\n",
        "Python does not really have a syntax for multi line comments.\n",
        "\n",
        "To add a multiline comment you could insert a `#` for each line:\n",
        "\n",
        "    #This is a comment\n",
        "    #written in\n",
        "    #more than just one line\n",
        "    print(\"Hello, World!\")\n",
        "\n",
        "Or, not quite as intended, you can use a multiline string.\n",
        "\n",
        "Since Python will ignore string literals that are not assigned to a variable, you can add a multiline string (triple quotes) in your code, and place your comment inside it:\n",
        "\n",
        "    \"\"\"\n",
        "    This is a comment\n",
        "    written in\n",
        "    more than just one line\n",
        "    \"\"\"\n",
        "    print(\"Hello, World!\")\n",
        "\n",
        "As long as the string is not assigned to a variable, Python will read the code, but then ignore it, and you have made a multiline comment."
      ],
      "metadata": {
        "id": "D2CuzNXliy4b"
      }
    },
    {
      "cell_type": "markdown",
      "source": [
        "# Python Variables\n",
        "\n",
        "Variables are containers for storing data values.\n",
        "\n",
        "### Creating Variables\n",
        "Python has no command for declaring a variable.\n",
        "\n",
        "A variable is created the moment you first assign a value to it."
      ],
      "metadata": {
        "id": "aseRXlFakL6R"
      }
    },
    {
      "cell_type": "code",
      "source": [
        "x = 5\n",
        "y = \"John\"\n",
        "print(x)\n",
        "print(y)"
      ],
      "metadata": {
        "colab": {
          "base_uri": "https://localhost:8080/"
        },
        "id": "RLeZqRyUiyrK",
        "outputId": "aa07e835-675d-4a76-8319-40a7c632172d"
      },
      "execution_count": null,
      "outputs": [
        {
          "output_type": "stream",
          "name": "stdout",
          "text": [
            "5\n",
            "John\n"
          ]
        }
      ]
    },
    {
      "cell_type": "code",
      "source": [
        "# Variables do not need to be declared with any particular type, and can even change type after they have been set.\n",
        "\n",
        "x = 4       # x is of type int\n",
        "x = \"Sally\" # x is now of type str\n",
        "print(x)"
      ],
      "metadata": {
        "id": "YysAHn38ktWP",
        "colab": {
          "base_uri": "https://localhost:8080/"
        },
        "outputId": "c586dd1c-4a41-4c22-d29b-ec4f49c008da"
      },
      "execution_count": null,
      "outputs": [
        {
          "output_type": "stream",
          "name": "stdout",
          "text": [
            "Sally\n"
          ]
        }
      ]
    },
    {
      "cell_type": "markdown",
      "source": [
        "### Casting\n",
        "\n",
        "If you want to specify the data type of a variable, this can be done with casting.\n"
      ],
      "metadata": {
        "id": "J7Bj_3kXZobh"
      }
    },
    {
      "cell_type": "code",
      "source": [
        "x = str(3)    # x will be '3'\n",
        "y = int(3)    # y will be 3\n",
        "z = float(3)  # z will be 3.0"
      ],
      "metadata": {
        "id": "xV_QQcQoZjIs"
      },
      "execution_count": null,
      "outputs": []
    },
    {
      "cell_type": "code",
      "source": [
        "print(type(x))"
      ],
      "metadata": {
        "colab": {
          "base_uri": "https://localhost:8080/"
        },
        "id": "WpJwm6miZubA",
        "outputId": "811be032-5405-4e50-fb73-70c4497086dd"
      },
      "execution_count": null,
      "outputs": [
        {
          "output_type": "stream",
          "name": "stdout",
          "text": [
            "<class 'str'>\n"
          ]
        }
      ]
    },
    {
      "cell_type": "code",
      "source": [
        "print(type(y))\n",
        "print(type(z))"
      ],
      "metadata": {
        "colab": {
          "base_uri": "https://localhost:8080/"
        },
        "id": "ikYgQBw4Z23i",
        "outputId": "b1c6d221-08dc-4e76-b378-2f9bab7d7976"
      },
      "execution_count": null,
      "outputs": [
        {
          "output_type": "stream",
          "name": "stdout",
          "text": [
            "<class 'int'>\n",
            "<class 'float'>\n"
          ]
        }
      ]
    },
    {
      "cell_type": "markdown",
      "source": [
        "## Python Variable Names\n",
        "\n",
        "A variable can have a short name (like x and y) or a more descriptive name \n",
        "(age, carname, total_volume). Rules for Python variables:\n",
        "\n",
        "* A variable name must start with a letter or the underscore character\n",
        "* A variable name cannot start with a number\n",
        "* A variable name can only contain alpha-numeric characters and underscores (A-z, 0-9, and _ )\n",
        "* Variable names are case-sensitive (age, Age and AGE are three different variables)"
      ],
      "metadata": {
        "id": "jm8jYSdqaLbC"
      }
    },
    {
      "cell_type": "code",
      "source": [
        "myvar = \"John\"\n",
        "my_var = \"John\"\n",
        "_my_var = \"John\"\n",
        "myVar = \"John\"\n",
        "MYVAR = \"John\"\n",
        "myvar2 = \"John\""
      ],
      "metadata": {
        "id": "6kuAJxS9Z-p7"
      },
      "execution_count": null,
      "outputs": []
    },
    {
      "cell_type": "markdown",
      "source": [
        "## Python Variables - Assign Multiple Values\n",
        "### Many Values to Multiple Variables\n",
        "Python allows you to assign values to multiple variables in one line:\n"
      ],
      "metadata": {
        "id": "lXjIubiIak59"
      }
    },
    {
      "cell_type": "code",
      "source": [
        "x, y, z = \"Orange\", \"Banana\", \"Cherry\"\n",
        "print(x)\n",
        "print(y)\n",
        "print(z)"
      ],
      "metadata": {
        "colab": {
          "base_uri": "https://localhost:8080/"
        },
        "id": "ZY0tn6mOahqj",
        "outputId": "0ddc83aa-2c91-4de9-ab04-ee90973c3c4d"
      },
      "execution_count": null,
      "outputs": [
        {
          "output_type": "stream",
          "name": "stdout",
          "text": [
            "Orange\n",
            "Banana\n",
            "Cherry\n"
          ]
        }
      ]
    },
    {
      "cell_type": "markdown",
      "source": [
        "### One Value to Multiple Variables\n",
        "And you can assign the same value to multiple variables in one line:"
      ],
      "metadata": {
        "id": "pIovTQhOaulp"
      }
    },
    {
      "cell_type": "code",
      "source": [
        "x = y = z = \"Orange\"\n",
        "print(x)\n",
        "print(y)\n",
        "print(z)"
      ],
      "metadata": {
        "colab": {
          "base_uri": "https://localhost:8080/"
        },
        "id": "Um8eMAl4asOa",
        "outputId": "95595c37-a852-41e4-acfd-3b25b35c620d"
      },
      "execution_count": null,
      "outputs": [
        {
          "output_type": "stream",
          "name": "stdout",
          "text": [
            "Orange\n",
            "Orange\n",
            "Orange\n"
          ]
        }
      ]
    },
    {
      "cell_type": "markdown",
      "source": [
        "### Unpack a Collection\n",
        "If you have a collection of values in a list, tuple etc. Python allows you to extract the values into variables. This is called unpacking."
      ],
      "metadata": {
        "id": "-KzCJNBFa3Pq"
      }
    },
    {
      "cell_type": "code",
      "source": [
        "fruits = [\"apple\", \"banana\", \"cherry\"]\n",
        "x, y, z = fruits\n",
        "print(x)\n",
        "print(y)\n",
        "print(z)"
      ],
      "metadata": {
        "colab": {
          "base_uri": "https://localhost:8080/"
        },
        "id": "TVGGCUHkaz33",
        "outputId": "b2050349-8cd8-462a-9bce-7d3b375c2e1b"
      },
      "execution_count": null,
      "outputs": [
        {
          "output_type": "stream",
          "name": "stdout",
          "text": [
            "apple\n",
            "banana\n",
            "cherry\n"
          ]
        }
      ]
    },
    {
      "cell_type": "markdown",
      "source": [
        "## Python - Output Variables\n",
        "The Python `print()` function is often used to output variables."
      ],
      "metadata": {
        "id": "saWwsQxtbEWk"
      }
    },
    {
      "cell_type": "code",
      "source": [
        "x = \"Python is awesome\"\n",
        "print(x)"
      ],
      "metadata": {
        "colab": {
          "base_uri": "https://localhost:8080/"
        },
        "id": "Lnt5IlQnbJok",
        "outputId": "6b7c0d3c-e338-42ca-fb54-bccf101c09eb"
      },
      "execution_count": null,
      "outputs": [
        {
          "output_type": "stream",
          "name": "stdout",
          "text": [
            "Python is awesome\n"
          ]
        }
      ]
    },
    {
      "cell_type": "code",
      "source": [
        "# In the `print()` function, you output multiple variables, separated by a comma:\n",
        "\n",
        "x = \"Python\"\n",
        "y = \"is\"\n",
        "z = \"awesome\"\n",
        "print(x, y, z)"
      ],
      "metadata": {
        "colab": {
          "base_uri": "https://localhost:8080/"
        },
        "id": "Fnzmn807bOOJ",
        "outputId": "80933642-c8f8-46f4-cf85-f44e13395a1b"
      },
      "execution_count": null,
      "outputs": [
        {
          "output_type": "stream",
          "name": "stdout",
          "text": [
            "Python is awesome\n"
          ]
        }
      ]
    },
    {
      "cell_type": "code",
      "source": [
        "# You can also use the `+` operator to output multiple variables:\n",
        "\n",
        "x = \"Python \"\n",
        "y = \"is \"\n",
        "z = \"awesome\"\n",
        "print(x + y + z)"
      ],
      "metadata": {
        "colab": {
          "base_uri": "https://localhost:8080/"
        },
        "id": "9G1KzXr0bTDV",
        "outputId": "4d41239f-d1c0-4927-b86c-a31a381817cc"
      },
      "execution_count": null,
      "outputs": [
        {
          "output_type": "stream",
          "name": "stdout",
          "text": [
            "Python is awesome\n"
          ]
        }
      ]
    },
    {
      "cell_type": "code",
      "source": [
        "# For numbers, the `+` character works as a mathematical operator:\n",
        "\n",
        "x = 5\n",
        "y = 10\n",
        "print(x + y)"
      ],
      "metadata": {
        "colab": {
          "base_uri": "https://localhost:8080/"
        },
        "id": "b3j0CdZtbayZ",
        "outputId": "a370e4c3-d1f7-40f5-e812-9cc007965f92"
      },
      "execution_count": null,
      "outputs": [
        {
          "output_type": "stream",
          "name": "stdout",
          "text": [
            "15\n"
          ]
        }
      ]
    },
    {
      "cell_type": "code",
      "source": [
        "# In the print() function, when you try to combine a string and a number with the + operator, Python will give you an error:\n",
        "\n",
        "x = 5\n",
        "y = \"John\"\n",
        "print(x + y)"
      ],
      "metadata": {
        "colab": {
          "base_uri": "https://localhost:8080/",
          "height": 201
        },
        "id": "labDj113blPS",
        "outputId": "9df3bef5-d7c3-44a1-851b-abd01757b5c1"
      },
      "execution_count": null,
      "outputs": [
        {
          "output_type": "error",
          "ename": "TypeError",
          "evalue": "ignored",
          "traceback": [
            "\u001b[0;31m---------------------------------------------------------------------------\u001b[0m",
            "\u001b[0;31mTypeError\u001b[0m                                 Traceback (most recent call last)",
            "\u001b[0;32m<ipython-input-13-e5e5921deed2>\u001b[0m in \u001b[0;36m<module>\u001b[0;34m\u001b[0m\n\u001b[1;32m      3\u001b[0m \u001b[0mx\u001b[0m \u001b[0;34m=\u001b[0m \u001b[0;36m5\u001b[0m\u001b[0;34m\u001b[0m\u001b[0;34m\u001b[0m\u001b[0m\n\u001b[1;32m      4\u001b[0m \u001b[0my\u001b[0m \u001b[0;34m=\u001b[0m \u001b[0;34m\"John\"\u001b[0m\u001b[0;34m\u001b[0m\u001b[0;34m\u001b[0m\u001b[0m\n\u001b[0;32m----> 5\u001b[0;31m \u001b[0mprint\u001b[0m\u001b[0;34m(\u001b[0m\u001b[0mx\u001b[0m \u001b[0;34m+\u001b[0m \u001b[0my\u001b[0m\u001b[0;34m)\u001b[0m\u001b[0;34m\u001b[0m\u001b[0;34m\u001b[0m\u001b[0m\n\u001b[0m",
            "\u001b[0;31mTypeError\u001b[0m: unsupported operand type(s) for +: 'int' and 'str'"
          ]
        }
      ]
    },
    {
      "cell_type": "code",
      "source": [
        "# The best way to output multiple variables in the print() function is to separate them with commas, which even support different data types:\n",
        "\n",
        "x = 5\n",
        "y = \"John\"\n",
        "print(x, y)"
      ],
      "metadata": {
        "colab": {
          "base_uri": "https://localhost:8080/"
        },
        "id": "Zx5x-8ncbsnM",
        "outputId": "eb89669a-8ebf-4240-b42a-dfc7f69a755e"
      },
      "execution_count": null,
      "outputs": [
        {
          "output_type": "stream",
          "name": "stdout",
          "text": [
            "5 John\n"
          ]
        }
      ]
    },
    {
      "cell_type": "markdown",
      "source": [
        "## Python - Global Variables\n",
        "### Global Variables\n",
        "Variables that are created outside of a function (as in all of the examples above) are known as global variables.\n",
        "\n",
        "Global variables can be used by everyone, both inside of functions and outside."
      ],
      "metadata": {
        "id": "dUvWxEK6b5oH"
      }
    },
    {
      "cell_type": "code",
      "source": [
        "# Create a variable outside of a function, and use it inside the function\n",
        "\n",
        "x = \"awesome\"\n",
        "\n",
        "def myfunc():\n",
        "  print(\"Python is \" + x)\n",
        "\n",
        "myfunc()"
      ],
      "metadata": {
        "id": "0XUCB14EcBZA",
        "outputId": "a317e1fb-7d9c-40fc-a7de-aa819b53d611",
        "colab": {
          "base_uri": "https://localhost:8080/"
        }
      },
      "execution_count": null,
      "outputs": [
        {
          "output_type": "stream",
          "name": "stdout",
          "text": [
            "Python is awesome\n"
          ]
        }
      ]
    },
    {
      "cell_type": "markdown",
      "source": [
        "If you create a variable with the same name inside a function, this variable will be local, and can only be used inside the function. The global variable with the same name will remain as it was, global and with the original value."
      ],
      "metadata": {
        "id": "IuvVu_EMcmE0"
      }
    },
    {
      "cell_type": "code",
      "source": [
        "# Create a variable inside a function, with the same name as the global variable\n",
        "\n",
        "x = \"awesome\"\n",
        "\n",
        "def myfunc():\n",
        "  x = \"fantastic\"\n",
        "  print(\"Python is \" + x)\n",
        "\n",
        "myfunc()\n",
        "\n",
        "print(\"Python is \" + x)"
      ],
      "metadata": {
        "id": "wqQf3LXrcmpX",
        "outputId": "04398122-793a-4568-edef-68d95abfeb4e",
        "colab": {
          "base_uri": "https://localhost:8080/"
        }
      },
      "execution_count": null,
      "outputs": [
        {
          "output_type": "stream",
          "name": "stdout",
          "text": [
            "Python is fantastic\n",
            "Python is awesome\n"
          ]
        }
      ]
    },
    {
      "cell_type": "markdown",
      "source": [
        "###The global Keyword\n",
        "Normally, when you create a variable inside a function, that variable is local, and can only be used inside that function.\n",
        "\n",
        "To create a global variable inside a function, you can use the `global` keyword."
      ],
      "metadata": {
        "id": "Pa9wlwYucsub"
      }
    },
    {
      "cell_type": "code",
      "source": [
        "# If you use the global keyword, the variable belongs to the global scope:\n",
        "\n",
        "def myfunc():\n",
        "  global x\n",
        "  x = \"fantastic\"\n",
        "\n",
        "myfunc()\n",
        "\n",
        "print(\"Python is \" + x)"
      ],
      "metadata": {
        "id": "ewIXLSlvco-2",
        "outputId": "361011b8-9564-4f17-e861-7eb02e67b028",
        "colab": {
          "base_uri": "https://localhost:8080/"
        }
      },
      "execution_count": null,
      "outputs": [
        {
          "output_type": "stream",
          "name": "stdout",
          "text": [
            "Python is fantastic\n"
          ]
        }
      ]
    },
    {
      "cell_type": "markdown",
      "source": [
        "Also, use the global keyword if you want to change a `global` variable inside a function."
      ],
      "metadata": {
        "id": "V8FFvWh1c18D"
      }
    },
    {
      "cell_type": "code",
      "source": [
        "# To change the value of a global variable inside a function, refer to the variable by using the global keyword:\n",
        "\n",
        "x = \"awesome\"\n",
        "\n",
        "def myfunc():\n",
        "  global x\n",
        "  x = \"fantastic\"\n",
        "\n",
        "myfunc()\n",
        "\n",
        "print(\"Python is \" + x)"
      ],
      "metadata": {
        "id": "fo_EcVM3cztL",
        "outputId": "abd6daa6-72d4-4b72-838a-194e6465a29c",
        "colab": {
          "base_uri": "https://localhost:8080/"
        }
      },
      "execution_count": null,
      "outputs": [
        {
          "output_type": "stream",
          "name": "stdout",
          "text": [
            "Python is fantastic\n"
          ]
        }
      ]
    },
    {
      "cell_type": "markdown",
      "source": [
        "# Python Data Types\n",
        "\n",
        "## Built-in Data Types\n",
        "In programming, data type is an important concept.\n",
        "\n",
        "Variables can store data of different types, and different types can do different things.\n",
        "\n",
        "Python has the following data types built-in by default, in these categories:\n",
        "\n",
        "\n",
        "|             |                   |\n",
        "| :- | -: | \n",
        "| Text Type:\t | `Str` \n",
        "| Numeric: \t | `int`, `float`, `complex` \n",
        "| Sequence Types:\t\t | `List`,`tuple`, `range` \n",
        "| Mapping Type:\t | `dict` \n",
        "| Set Type:\t | `Set`, `frozenset`\n",
        "| Boolean  Type:\t | `bool` \n",
        "| Binary   Type:\t | `bytes`,`bytearray`,`memoryview`\n",
        "| None  Type:\t | `NoneType` \n",
        "\n",
        "## Getting the Data Type\n",
        "You can get the data type of any object by using the `type()` function:"
      ],
      "metadata": {
        "id": "v2dp-gocg0mP"
      }
    },
    {
      "cell_type": "code",
      "source": [
        "#Print the data type of the variable x:\n",
        "\n",
        "x = 5\n",
        "print(type(x))"
      ],
      "metadata": {
        "id": "2hYqUYcthZTi",
        "outputId": "61a33577-c318-4868-96c7-7bd72752ea99",
        "colab": {
          "base_uri": "https://localhost:8080/"
        }
      },
      "execution_count": 20,
      "outputs": [
        {
          "output_type": "stream",
          "name": "stdout",
          "text": [
            "<class 'int'>\n"
          ]
        }
      ]
    },
    {
      "cell_type": "markdown",
      "source": [
        "![image.png](data:image/png;base64,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)"
      ],
      "metadata": {
        "id": "ZgaP5VeMjLhm"
      }
    },
    {
      "cell_type": "code",
      "source": [],
      "metadata": {
        "id": "NrU-W5RFjMNf"
      },
      "execution_count": null,
      "outputs": []
    }
  ]
}