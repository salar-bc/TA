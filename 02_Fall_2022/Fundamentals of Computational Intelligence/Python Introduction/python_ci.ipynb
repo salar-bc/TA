{
  "nbformat": 4,
  "nbformat_minor": 0,
  "metadata": {
    "colab": {
      "provenance": [],
      "authorship_tag": "ABX9TyNbl9aE88Tq3S9M9Ka0DJQL",
      "include_colab_link": true
    },
    "kernelspec": {
      "name": "python3",
      "display_name": "Python 3"
    },
    "language_info": {
      "name": "python"
    }
  },
  "cells": [
    {
      "cell_type": "markdown",
      "metadata": {
        "id": "view-in-github",
        "colab_type": "text"
      },
      "source": [
        "<a href=\"https://colab.research.google.com/github/salarMokhtariL/TA/blob/main/02_Fall_2022/Fundamentals%20of%20Computational%20Intelligence/Python%20Introduction/python_ci.ipynb\" target=\"_parent\"><img src=\"https://colab.research.google.com/assets/colab-badge.svg\" alt=\"Open In Colab\"/></a>"
      ]
    },
    {
      "cell_type": "markdown",
      "source": [
        "# Python Programming Language\n",
        "\n",
        "### Lec : Dr. Mohammad Ali Balafar\n",
        "\n",
        "### TA : Salar Mokhtari Laleh  "
      ],
      "metadata": {
        "id": "w1vSmyIDgctV"
      }
    },
    {
      "cell_type": "markdown",
      "source": [
        "## Class Information:\n",
        " \n",
        " Class at [Quera](https://quera.org/course/add_to_course/course/11843/) to send homeworks with **TBZ** password \n",
        "\n",
        "Homework and projects will be uploaded to [Github](https://github.com/salarMokhtariL/TA) repositories\n",
        "\n",
        "Email sending assignments if the link to the **Quora website does not work**\n",
        "\n",
        "\tsalarmokhtrai0@gmail.com"
      ],
      "metadata": {
        "id": "LbDVxMVshXLw"
      }
    },
    {
      "cell_type": "markdown",
      "source": [
        "# Python \n",
        "\n",
        "Python is an easy to learn, powerful programming language. It has efficient high-level data structures and a simple but effective approach to object-oriented programming. Python’s elegant syntax and dynamic typing, together with its interpreted nature, make it an ideal language for scripting and rapid application development in many areas on most platforms.\n",
        "\n",
        "The Python interpreter and the extensive standard library are freely available in source or binary form for all major platforms from the Python web site, https://www.python.org/, and may be freely distributed. The same site also contains distributions of and pointers to many free third party Python modules, programs and tools, and additional documentation.\n",
        "\n",
        "The Python interpreter is easily extended with new functions and data types implemented in C or C++ (or other languages callable from C). Python is also suitable as an extension language for customizable applications.\n",
        "\n",
        "you write Python (.py) files in a text editor and then put those files into the python interpreter to be executed. Depending on the Editor you are using, this is either done automatically, or you need to do it manually.\n",
        "\n",
        "\n",
        "## Interpreted vs. Compiled\n",
        "\n",
        "\n",
        "Programming languages generally fall into one of two categories: Compiled or Interpreted. With a compiled language, code you enter is reduced to a set of machine-specific instructions before being saved as an executable file.\n",
        "Both approaches have their advantages and disadvantages.\n",
        "\n",
        "With interpreted languages, the code is saved in the same format that you entered. Compiled programs generally run faster than interpreted ones because interpreted programs must be reduced to machine instructions at run-time. It is usually easier to develop applications in an interpreted environment because you don’t have to recompile your application each time you want to test a small section.\n",
        "\n",
        "Compiled languages are all translated by running the source code through a compiler. This results in very efficient code that can be executed any number of times. The overhead for the translation is incurred just once, when the source is compiled; thereafter, it need only be loaded and executed.\n",
        "\n",
        "Interpreted languages, in contrast, must be parsed, interpreted, and executed each time the program is run.\n",
        "\n",
        "## Python Packages for Science and Numerical Computations\n",
        "Some important Python Packages for Science and Numerical Computations are: \n",
        "\n",
        "  *   NumPy\n",
        "\n",
        "  *   SciPy\n",
        "  *   Matplotlib\n",
        "  *   Pandas\n",
        "\n",
        "These packages need to be downloaded and installed separately, or you choose to use, e.g., a distribution package like Anaconda, where you typically get the packages you need for scientific computing\n"
      ],
      "metadata": {
        "id": "xjbB96Nwh8Zr"
      }
    },
    {
      "cell_type": "markdown",
      "source": [
        "# Python Comments \n",
        "\n",
        "\n",
        "  *   Comments can be used to explain Python code.\n",
        "  *   Comments can be used to make the code more readable.\n",
        "  *   Comments can be used to prevent execution when testing code.\n",
        "\n",
        "## Creating a Comment\n",
        "\n",
        "Comments starts with a `#`, and Python will ignore them\n",
        "    \n",
        "    # This's a Comment\n",
        "    print(\"hello world\")\n",
        "\n",
        "Comments can be placed at the end of a line, and Python will ignore the rest of the line:\n",
        "\n",
        "    print(\"Hello, World!\") #This is a comment\n",
        "\n",
        "A comment does not have to be text that explains the code, it can also be used to prevent Python from executing code:\n",
        "\n",
        "    #print(\"Hello, World!\")\n",
        "    print(\"Cheers, Mate!\")\n",
        "\n",
        "## Multi Line Comments\n",
        "Python does not really have a syntax for multi line comments.\n",
        "\n",
        "To add a multiline comment you could insert a `#` for each line:\n",
        "\n",
        "    #This is a comment\n",
        "    #written in\n",
        "    #more than just one line\n",
        "    print(\"Hello, World!\")\n",
        "\n",
        "Or, not quite as intended, you can use a multiline string.\n",
        "\n",
        "Since Python will ignore string literals that are not assigned to a variable, you can add a multiline string (triple quotes) in your code, and place your comment inside it:\n",
        "\n",
        "    \"\"\"\n",
        "    This is a comment\n",
        "    written in\n",
        "    more than just one line\n",
        "    \"\"\"\n",
        "    print(\"Hello, World!\")\n",
        "\n",
        "As long as the string is not assigned to a variable, Python will read the code, but then ignore it, and you have made a multiline comment."
      ],
      "metadata": {
        "id": "D2CuzNXliy4b"
      }
    },
    {
      "cell_type": "markdown",
      "source": [
        "# Python Variables\n",
        "\n",
        "Variables are containers for storing data values.\n",
        "\n",
        "## Creating Variables\n",
        "Python has no command for declaring a variable.\n",
        "\n",
        "A variable is created the moment you first assign a value to it."
      ],
      "metadata": {
        "id": "aseRXlFakL6R"
      }
    },
    {
      "cell_type": "code",
      "source": [
        "x = 5\n",
        "y = \"John\"\n",
        "print(x)\n",
        "print(y)"
      ],
      "metadata": {
        "colab": {
          "base_uri": "https://localhost:8080/"
        },
        "id": "RLeZqRyUiyrK",
        "outputId": "aa07e835-675d-4a76-8319-40a7c632172d"
      },
      "execution_count": null,
      "outputs": [
        {
          "output_type": "stream",
          "name": "stdout",
          "text": [
            "5\n",
            "John\n"
          ]
        }
      ]
    },
    {
      "cell_type": "code",
      "source": [
        "# Variables do not need to be declared with any particular type, and can even change type after they have been set.\n",
        "\n",
        "x = 4       # x is of type int\n",
        "x = \"Sally\" # x is now of type str\n",
        "print(x)"
      ],
      "metadata": {
        "id": "YysAHn38ktWP",
        "outputId": "c586dd1c-4a41-4c22-d29b-ec4f49c008da",
        "colab": {
          "base_uri": "https://localhost:8080/"
        }
      },
      "execution_count": 1,
      "outputs": [
        {
          "output_type": "stream",
          "name": "stdout",
          "text": [
            "Sally\n"
          ]
        }
      ]
    },
    {
      "cell_type": "markdown",
      "source": [
        "## Casting\n",
        "\n",
        "If you want to specify the data type of a variable, this can be done with casting.\n"
      ],
      "metadata": {
        "id": "J7Bj_3kXZobh"
      }
    },
    {
      "cell_type": "code",
      "source": [
        "x = str(3)    # x will be '3'\n",
        "y = int(3)    # y will be 3\n",
        "z = float(3)  # z will be 3.0"
      ],
      "metadata": {
        "id": "xV_QQcQoZjIs"
      },
      "execution_count": 2,
      "outputs": []
    },
    {
      "cell_type": "code",
      "source": [
        "print(type(x))"
      ],
      "metadata": {
        "id": "WpJwm6miZubA",
        "outputId": "811be032-5405-4e50-fb73-70c4497086dd",
        "colab": {
          "base_uri": "https://localhost:8080/"
        }
      },
      "execution_count": 3,
      "outputs": [
        {
          "output_type": "stream",
          "name": "stdout",
          "text": [
            "<class 'str'>\n"
          ]
        }
      ]
    },
    {
      "cell_type": "code",
      "source": [
        "print(type(y))\n",
        "print(type(z))"
      ],
      "metadata": {
        "id": "ikYgQBw4Z23i",
        "outputId": "b1c6d221-08dc-4e76-b378-2f9bab7d7976",
        "colab": {
          "base_uri": "https://localhost:8080/"
        }
      },
      "execution_count": 4,
      "outputs": [
        {
          "output_type": "stream",
          "name": "stdout",
          "text": [
            "<class 'int'>\n",
            "<class 'float'>\n"
          ]
        }
      ]
    },
    {
      "cell_type": "code",
      "source": [],
      "metadata": {
        "id": "6kuAJxS9Z-p7"
      },
      "execution_count": null,
      "outputs": []
    }
  ]
}