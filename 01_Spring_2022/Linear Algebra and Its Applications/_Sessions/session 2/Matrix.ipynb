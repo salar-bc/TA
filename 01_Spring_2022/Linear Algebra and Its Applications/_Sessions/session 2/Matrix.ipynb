{
 "cells": [
  {
   "cell_type": "markdown",
   "metadata": {},
   "source": [
    "# Python Matrices and NumPy Arrays\n",
    "A matrix is a two-dimensional data structure where numbers are arranged into rows and columns. For example:"
   ]
  },
  {
   "cell_type": "markdown",
   "metadata": {},
   "source": [
    "$$\\begin{bmatrix} 1 & 2 & 1 \\\\ 3 & 0 & 1 \\\\ 0 & 2 & 4 \\end{bmatrix}$$"
   ]
  },
  {
   "cell_type": "markdown",
   "metadata": {},
   "source": [
    "This matrix is a 3x3 matrix because it has 3 rows and 3 columns."
   ]
  },
  {
   "cell_type": "markdown",
   "metadata": {},
   "source": [
    "## Python Matrix\n",
    "Python doesn't have a built-in type for matrices. However, we can treat a list of a list as a matrix. For example:"
   ]
  },
  {
   "cell_type": "code",
   "execution_count": 1,
   "metadata": {},
   "outputs": [],
   "source": [
    "A = [[1, 4, 5], \n",
    "    [-5, 8, 9]]"
   ]
  },
  {
   "cell_type": "markdown",
   "metadata": {},
   "source": [
    "We can treat this list of a list as a matrix having 2 rows and 3 columns."
   ]
  },
  {
   "cell_type": "markdown",
   "metadata": {},
   "source": [
    "$$\\begin{bmatrix} 1 & 4 & 5 \\\\ -5 & 8 & 9 \\end{bmatrix}$$"
   ]
  },
  {
   "cell_type": "code",
   "execution_count": 2,
   "metadata": {},
   "outputs": [
    {
     "data": {
      "text/plain": [
       "[[1, 4, 5], [-5, 8, 9]]"
      ]
     },
     "execution_count": 2,
     "metadata": {},
     "output_type": "execute_result"
    }
   ],
   "source": [
    "A"
   ]
  },
  {
   "cell_type": "markdown",
   "metadata": {},
   "source": [
    "Let's see how to work with a nested list."
   ]
  },
  {
   "cell_type": "code",
   "execution_count": 3,
   "metadata": {},
   "outputs": [
    {
     "name": "stdout",
     "output_type": "stream",
     "text": [
      "A = [[1, 4, 5, 12], [-5, 8, 9, 0], [-6, 7, 11, 19]]\n",
      "A[1] = [-5, 8, 9, 0]\n",
      "A[1][2] = 9\n",
      "A[0][-1] = 12\n",
      "3rd column = [5, 9, 11]\n"
     ]
    }
   ],
   "source": [
    "A = [[1, 4, 5, 12], \n",
    "    [-5, 8, 9, 0],\n",
    "    [-6, 7, 11, 19]]\n",
    "\n",
    "print(\"A =\", A) \n",
    "print(\"A[1] =\", A[1])      # 2nd row\n",
    "print(\"A[1][2] =\", A[1][2])   # 3rd element of 2nd row\n",
    "print(\"A[0][-1] =\", A[0][-1])   # Last element of 1st Row\n",
    "\n",
    "column = [];        # empty list\n",
    "for row in A:\n",
    "  column.append(row[2])   \n",
    "\n",
    "print(\"3rd column =\", column)"
   ]
  },
  {
   "cell_type": "markdown",
   "metadata": {},
   "source": [
    "## NumPy Array\n",
    "NumPy is a package for scientific computing which has support for a powerful N-dimensional array object. Before you can use NumPy"
   ]
  },
  {
   "cell_type": "markdown",
   "metadata": {},
   "source": [
    "NumPy provides multidimensional array of numbers (which is actually an object). Let's take an example:"
   ]
  },
  {
   "cell_type": "code",
   "execution_count": 4,
   "metadata": {},
   "outputs": [
    {
     "name": "stdout",
     "output_type": "stream",
     "text": [
      "[1 2 3]\n",
      "<class 'numpy.ndarray'>\n"
     ]
    }
   ],
   "source": [
    "import numpy as np\n",
    "a = np.array([1, 2, 3])\n",
    "print(a)               # Output: [1, 2, 3]\n",
    "print(type(a))         # Output: <class 'numpy.ndarray'>"
   ]
  },
  {
   "cell_type": "markdown",
   "metadata": {},
   "source": [
    "# NumPy Matrix"
   ]
  },
  {
   "cell_type": "markdown",
   "metadata": {},
   "source": [
    "`class numpy.matrix(data, dtype = None, copy = True)`\n",
    "\n",
    "\n",
    "Returns a matrix from an array-like object, or from a string of data. A matrix is a specialized 2-D array that retains its 2-D nature through operations. It has certain special operators, such as * (matrix multiplication) and ** (matrix power)."
   ]
  },
  {
   "cell_type": "markdown",
   "metadata": {},
   "source": [
    "**Parameters**\n",
    "\n",
    "data : *array_like or string*\n",
    "\n",
    "If data is a string, it is interpreted as a matrix with commas or spaces separating columns, and semicolons separating rows.\n",
    "\n",
    "dtype : *data-type*\n",
    "\n",
    "Data-type of the output matrix.\n",
    "\n",
    "copy : *bool* \n",
    "\n",
    "If data is already an ndarray, then this flag determines whether the data is copied (the default), or whether a view is constructed."
   ]
  },
  {
   "cell_type": "code",
   "execution_count": 5,
   "metadata": {},
   "outputs": [],
   "source": [
    "a = np.matrix('1 2; 3 4')"
   ]
  },
  {
   "cell_type": "code",
   "execution_count": 6,
   "metadata": {},
   "outputs": [
    {
     "data": {
      "text/plain": [
       "matrix([[1, 2],\n",
       "        [3, 4]])"
      ]
     },
     "execution_count": 6,
     "metadata": {},
     "output_type": "execute_result"
    }
   ],
   "source": [
    "a"
   ]
  },
  {
   "cell_type": "code",
   "execution_count": 7,
   "metadata": {},
   "outputs": [
    {
     "data": {
      "text/plain": [
       "matrix([[1, 2],\n",
       "        [3, 4]])"
      ]
     },
     "execution_count": 7,
     "metadata": {},
     "output_type": "execute_result"
    }
   ],
   "source": [
    "np.matrix([[1, 2], [3, 4]])"
   ]
  }
 ],
 "metadata": {
  "interpreter": {
   "hash": "77519f06b7d645d057a55e1fd8eae677f847e2688a817aeaaa1c968b52c09213"
  },
  "kernelspec": {
   "display_name": "Python 3.9.7 ('base')",
   "language": "python",
   "name": "python3"
  },
  "language_info": {
   "codemirror_mode": {
    "name": "ipython",
    "version": 3
   },
   "file_extension": ".py",
   "mimetype": "text/x-python",
   "name": "python",
   "nbconvert_exporter": "python",
   "pygments_lexer": "ipython3",
   "version": "3.9.7"
  },
  "orig_nbformat": 4
 },
 "nbformat": 4,
 "nbformat_minor": 2
}
