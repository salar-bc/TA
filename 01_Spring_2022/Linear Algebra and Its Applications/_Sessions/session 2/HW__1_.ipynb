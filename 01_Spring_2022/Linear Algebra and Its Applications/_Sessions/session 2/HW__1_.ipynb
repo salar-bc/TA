{
  "nbformat": 4,
  "nbformat_minor": 0,
  "metadata": {
    "colab": {
      "name": "HW_ 1 .ipynb",
      "provenance": [],
      "authorship_tag": "ABX9TyMexvGAev/omYDn1d5j1vcJ",
      "include_colab_link": true
    },
    "kernelspec": {
      "name": "python3",
      "display_name": "Python 3"
    },
    "language_info": {
      "name": "python"
    }
  },
  "cells": [
    {
      "cell_type": "markdown",
      "metadata": {
        "id": "view-in-github",
        "colab_type": "text"
      },
      "source": [
        "<a href=\"https://colab.research.google.com/github/salarMokhtariL/TA/blob/main/Spring_2022/Linear%20Algebra%20and%20Its%20Applications/_Sessions/session%202/HW__1_.ipynb\" target=\"_parent\"><img src=\"https://colab.research.google.com/assets/colab-badge.svg\" alt=\"Open In Colab\"/></a>"
      ]
    },
    {
      "cell_type": "code",
      "execution_count": null,
      "metadata": {
        "id": "ymqieYl3MAtC"
      },
      "outputs": [],
      "source": [
        "import numpy as np "
      ]
    },
    {
      "cell_type": "code",
      "source": [
        "'''\n",
        "SymPy is a Python library for symbolic mathematics.\n",
        "It aims to become a full-featured computer algebra system (CAS) while keeping\n",
        "the code as simple as possible in order to be comprehensible and easily extensible.\n",
        "SymPy is written entirely in Python.\n",
        "'''\n",
        "from sympy import *"
      ],
      "metadata": {
        "id": "eIAxJBnoNGuL"
      },
      "execution_count": null,
      "outputs": []
    },
    {
      "cell_type": "markdown",
      "source": [
        "# Matrix rank\n",
        "\n",
        "Example :\n",
        "\n",
        "$\\begin{bmatrix} 0&2&1 \\\\ 3&-1&2 \\\\ 1&-1&1 \\end{bmatrix} $\n"
      ],
      "metadata": {
        "id": "1QAI_xbVUhwk"
      }
    },
    {
      "cell_type": "code",
      "source": [
        "A = np.matrix('0 2 1; 3 -1 2 ; 1 -1 1')\n",
        "print('rank(A) = ',np.linalg.matrix_rank(A))"
      ],
      "metadata": {
        "colab": {
          "base_uri": "https://localhost:8080/"
        },
        "id": "85HWsjvZVjgc",
        "outputId": "9fd2506b-30a8-449b-c603-e235a5abd1a7"
      },
      "execution_count": null,
      "outputs": [
        {
          "output_type": "stream",
          "name": "stdout",
          "text": [
            "rank(A) =  3\n"
          ]
        }
      ]
    },
    {
      "cell_type": "markdown",
      "source": [
        "### Row Echelon Form"
      ],
      "metadata": {
        "id": "U-V_1TkMNu8I"
      }
    },
    {
      "cell_type": "markdown",
      "source": [
        "$$\\begin{bmatrix} 1 & 3 \\\\ 2 & -1 \\\\ -1 & 3 \\end{bmatrix} \n",
        "\\to \n",
        "\\begin{bmatrix} 1 & 0 \\\\ 0 & 1 \\\\ 0 & 0 \\end{bmatrix}\n",
        "$$ \n"
      ],
      "metadata": {
        "id": "UAGd-fdZN7xf"
      }
    },
    {
      "cell_type": "code",
      "source": [
        "M = Matrix([[1,3], [2, -1], [-1, 3]])\n",
        "print(\"Matrix : {} \".format(M))\n",
        "M_rref = M.rref()  \n",
        "print(\"The Row echelon form of matrix M and the pivot columns : {}\"\n",
        ".format(M_rref))  "
      ],
      "metadata": {
        "colab": {
          "base_uri": "https://localhost:8080/"
        },
        "id": "69Tg-eDUNNMf",
        "outputId": "1e524e9b-ca38-42e9-f304-0463e75f865b"
      },
      "execution_count": null,
      "outputs": [
        {
          "output_type": "stream",
          "name": "stdout",
          "text": [
            "Matrix : Matrix([[1, 3], [2, -1], [-1, 3]]) \n",
            "The Row echelon form of matrix M and the pivot columns : (Matrix([\n",
            "[1, 0],\n",
            "[0, 1],\n",
            "[0, 0]]), (0, 1))\n"
          ]
        }
      ]
    },
    {
      "cell_type": "markdown",
      "source": [
        "$$\\begin{bmatrix} 1 & 2 & 3 & 4 \\\\ 2 & 3 & 4 & 1 \\\\ 3 & 4 & 1 & 2 \\\\ 4& 1& 2& 3 \\end{bmatrix} \n",
        "\\to \n",
        "\\begin{bmatrix} 1 & 0& 0& 0 \\\\ 0 & 1& 0& 0 \\\\ 0 & 0& 1& 0\\\\ 0& 0& 0 & 1 \\end{bmatrix}\n",
        "$$ \n"
      ],
      "metadata": {
        "id": "OLEw_jHuPuy5"
      }
    },
    {
      "cell_type": "code",
      "source": [
        "M = Matrix([[1,2,3,4], [2,3,4,1], [3,4,1,2], [4,1,2,3]])\n",
        "print(\"Matrix : {} \".format(M))\n",
        "M_rref = M.rref()  \n",
        "print(\"The Row echelon form of matrix M and the pivot columns : {}\".\n",
        "      format(M_rref))  "
      ],
      "metadata": {
        "colab": {
          "base_uri": "https://localhost:8080/"
        },
        "id": "PMt4c8NUPsXi",
        "outputId": "0f22a96d-0b31-427e-e592-a8dc131a1eab"
      },
      "execution_count": null,
      "outputs": [
        {
          "output_type": "stream",
          "name": "stdout",
          "text": [
            "Matrix : Matrix([[1, 2, 3, 4], [2, 3, 4, 1], [3, 4, 1, 2], [4, 1, 2, 3]]) \n",
            "The Row echelon form of matrix M and the pivot columns : (Matrix([\n",
            "[1, 0, 0, 0],\n",
            "[0, 1, 0, 0],\n",
            "[0, 0, 1, 0],\n",
            "[0, 0, 0, 1]]), (0, 1, 2, 3))\n"
          ]
        }
      ]
    },
    {
      "cell_type": "markdown",
      "source": [
        "$$\\begin{bmatrix} 1 & 2 & 3 & 3 \\\\ 2 & 4 & 6 & 9 \\\\ 2 & 6 & 7 & 6  \\end{bmatrix} \n",
        "\\to \n",
        "\\begin{bmatrix} 1 & 0& 2& 0 \\\\ 0 & 1& 1/2& 0 \\\\ 0 & 0& 0& 1\\end{bmatrix}\n",
        "$$ \n"
      ],
      "metadata": {
        "id": "2ZXMHBMvQvC2"
      }
    },
    {
      "cell_type": "code",
      "source": [
        "M = Matrix([[1,2,3,3], [2,4,6,9], [2,6,7,6]])\n",
        "print(\"Matrix : {} \".format(M))\n",
        "M_rref = M.rref()  \n",
        "print(\"The Row echelon form of matrix M and the pivot columns : {}\".\n",
        "      format(M_rref)) "
      ],
      "metadata": {
        "id": "utfe_juqNZ5e",
        "colab": {
          "base_uri": "https://localhost:8080/"
        },
        "outputId": "c2fee66d-2c3a-4d2a-a436-fb8ca46ac028"
      },
      "execution_count": null,
      "outputs": [
        {
          "output_type": "stream",
          "name": "stdout",
          "text": [
            "Matrix : Matrix([[1, 2, 3, 3], [2, 4, 6, 9], [2, 6, 7, 6]]) \n",
            "The Row echelon form of matrix M and the pivot columns : (Matrix([\n",
            "[1, 0,   2, 0],\n",
            "[0, 1, 1/2, 0],\n",
            "[0, 0,   0, 1]]), (0, 1, 3))\n"
          ]
        }
      ]
    },
    {
      "cell_type": "markdown",
      "source": [
        "# Gaussian elimination\n",
        "\n",
        "\n",
        "Let’s review how Gaussian elimination (ge) works. We will deal with a 3×3 system of equations for conciseness, but everything here generalizes to the n×n case. Consider the following equation:"
      ],
      "metadata": {
        "id": "fq_MtW_4aam0"
      }
    },
    {
      "cell_type": "markdown",
      "source": [
        "$\\begin{pmatrix} a_{11} & a_{12} & a_{13}  \\\\ a_{21} & a_{22} & a_{23} \\\\ a_{31} & a_{32} & a_{33} \\end{pmatrix} $$\\begin{pmatrix} x_1 \\\\x_2\\\\x_3\\end{pmatrix} =\\begin{pmatrix} b_1\\\\b_2\\\\b_3 \\end{pmatrix}$"
      ],
      "metadata": {
        "id": "ZIfNWx0QasI7"
      }
    },
    {
      "cell_type": "markdown",
      "source": [
        "For simplicity, let us assume that the leftmost matrix A is non-singular. To solve the system using ge, we start with the ‘augmented matrix’:"
      ],
      "metadata": {
        "id": "UY0beiLactet"
      }
    },
    {
      "cell_type": "markdown",
      "source": [
        "$\\begin{pmatrix} a_{11} & a_{12} & a_{13} \\mid b_1  \\\\ a_{21} & a_{22} & a_{23} \\mid b_2 \\\\ a_{31} & a_{32} & a_{33} \\mid b_3\\end{pmatrix}  $"
      ],
      "metadata": {
        "id": "toGwXJ6wcuGj"
      }
    },
    {
      "cell_type": "markdown",
      "source": [
        "We begin at the first entry, $a_{11}$. If $a_{11}≠0$, then we divide the first row by a11 and then subtract the appropriate multiple of the first row from each of the other rows, zeroing out the first entry of all rows. (If $a_{11}$ is zero, we need to permute rows. We will not go into detail of that here.) The result is as follows:"
      ],
      "metadata": {
        "id": "1iljyqMWdjTJ"
      }
    },
    {
      "cell_type": "markdown",
      "source": [
        "$\\begin{pmatrix} 1 & {a_{12}/a_{11}} & a_{13}/a_{11} \\mid b_1/a_{11}  \\\\ 0 & a_{22}-a_{21}\\times({a_{12}/a_{11}}) & a_{23}-a_{21}\\times({a_{12}/a_{11}}) \\mid b_2- a_{21}\\times({a_{12}/a_{11}}) \\\\ 0 & a_{32}-a_{31}\\times({a_{12}/a_{11}}) & a_{33}-a_{31}\\times({a_{12}/a_{11}}) \\mid b_3-a_{31}\\times({a_{12}/a_{11}})\\end{pmatrix}  $"
      ],
      "metadata": {
        "id": "0jEVOTe8d6Ew"
      }
    },
    {
      "cell_type": "markdown",
      "source": [
        "We repeat the procedure for the second row, first dividing by the leading entry, then subtracting the appropriate multiple of the resulting row from each of the third and first rows, so that the second entry in row 1 and in row 3 are zero. Gaussian elimination stops at row echelon form (upper triangular, with ones on the diagonal), and then uses back substitution to obtain the final answer.\n",
        "\n",
        "Note that in some cases, it is necessary to permute rows to obtain row echelon form (when the pivot would otherwise be zero). This is called partial pivoting."
      ],
      "metadata": {
        "id": "_viA6ytwgJ8g"
      }
    },
    {
      "cell_type": "markdown",
      "source": [
        "## **Example**\n",
        "We perform Gaussian elimination on the the following augmented matrix\n",
        "\n",
        "$\\begin{pmatrix} 1&3&4 &| &1\\\\ 2&1&3&|&2 \\\\ 4&7&2&|&3\\end{pmatrix}$\n"
      ],
      "metadata": {
        "id": "KluUyn0jigG2"
      }
    },
    {
      "cell_type": "markdown",
      "source": [
        "We need to multiply row 1 by 2 and subtract from row 2 to eliminate the first entry in row 2, and then multiply row 1 by 4 and subtract from row 3."
      ],
      "metadata": {
        "id": "2ZJF1UiCjuDD"
      }
    },
    {
      "cell_type": "markdown",
      "source": [
        "$\\begin{pmatrix} 1&3&4 &| &1\\\\ 0&-5&-5&|&0 \\\\ 0&-5&-14&|&-1\\end{pmatrix}$"
      ],
      "metadata": {
        "id": "fLDym9HjjvOq"
      }
    },
    {
      "cell_type": "markdown",
      "source": [
        "And then we eliminate the second entry in the third row:\n",
        "\n"
      ],
      "metadata": {
        "id": "Jg84XyC1j5zR"
      }
    },
    {
      "cell_type": "markdown",
      "source": [
        "$\\begin{pmatrix} 1&3&4 &| &1\\\\ 0&-5&-5&|&0 \\\\ 0&0&-9&|&-1\\end{pmatrix}$"
      ],
      "metadata": {
        "id": "B8BlAzH5kUNd"
      }
    },
    {
      "cell_type": "markdown",
      "source": [
        "We can now do back-substitution to solve\n",
        "\n"
      ],
      "metadata": {
        "id": "oU7IAS6mkdif"
      }
    },
    {
      "cell_type": "markdown",
      "source": [
        "$9x_3=1\\\\\n",
        "x_2=−x_3=0\\\\\n",
        "x_1=−3x_2−4x_3+1$"
      ],
      "metadata": {
        "id": "cnZnU29ikehy"
      }
    },
    {
      "cell_type": "markdown",
      "source": [
        "$x_1=8/9\\\\x_2=−1/9\\\\x_3=1/9$"
      ],
      "metadata": {
        "id": "4KC2NzTNkz2x"
      }
    },
    {
      "cell_type": "code",
      "source": [
        "import numpy as np\n",
        "import scipy.linalg as la"
      ],
      "metadata": {
        "id": "l717Od7GlSNA"
      },
      "execution_count": null,
      "outputs": []
    },
    {
      "cell_type": "code",
      "source": [
        "A = np.array([\n",
        "    [1,3,4],\n",
        "    [2,1,3],\n",
        "    [4,7,2]\n",
        "])\n",
        "b = np.array([1,2,3]).reshape((-1,1))\n",
        "la.solve(A, b)"
      ],
      "metadata": {
        "colab": {
          "base_uri": "https://localhost:8080/"
        },
        "id": "gKXEwJNvXtGI",
        "outputId": "7df8dccd-97fd-4e31-afcd-dbf1781738c8"
      },
      "execution_count": null,
      "outputs": [
        {
          "output_type": "execute_result",
          "data": {
            "text/plain": [
              "array([[ 0.88888889],\n",
              "       [-0.11111111],\n",
              "       [ 0.11111111]])"
            ]
          },
          "metadata": {},
          "execution_count": 32
        }
      ]
    },
    {
      "cell_type": "code",
      "source": [
        "m = np.array([[2,1,1,2],\n",
        "           [4,5,1,5],\n",
        "           [6,3,1,8],\n",
        "           [8,5,1,8]])"
      ],
      "metadata": {
        "id": "Eui8Nk34QHGp"
      },
      "execution_count": null,
      "outputs": []
    },
    {
      "cell_type": "code",
      "source": [
        ""
      ],
      "metadata": {
        "id": "e2SHOCGdR18m"
      },
      "execution_count": null,
      "outputs": []
    }
  ]
}